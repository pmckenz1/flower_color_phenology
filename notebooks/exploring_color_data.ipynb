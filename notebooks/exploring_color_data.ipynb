{
 "cells": [
  {
   "cell_type": "markdown",
   "id": "88bd4c8d-1d7d-484c-9b49-0c4d757eda6c",
   "metadata": {},
   "source": [
    "# Exploring properties of the raw color data exported from the TRY database"
   ]
  },
  {
   "cell_type": "markdown",
   "id": "f473166e-1e85-4809-b26e-2503ae07149c",
   "metadata": {},
   "source": [
    "Here is the request, submitted and downloaded June 16, 2022:\n",
    "\n",
    "TRY Data Request 21604  \n",
    "Only public data were requested.  \n",
    "Title:  \n",
    "21604  \n",
    "Authors:  \n",
    "Patrick McKenzie (Columbia University) PI  \n",
    "Trait List:  \n",
    "207,  \n",
    "Species List:  \n",
    "\n",
    "Description:"
   ]
  },
  {
   "cell_type": "code",
   "execution_count": 5,
   "id": "f5a65e70-c225-4e4c-946d-bed33cd92a02",
   "metadata": {},
   "outputs": [],
   "source": [
    "import pandas as pd\n",
    "import numpy as np"
   ]
  },
  {
   "cell_type": "code",
   "execution_count": 3,
   "id": "b85b9480-feb0-4a47-8630-3799c07a7b93",
   "metadata": {},
   "outputs": [],
   "source": [
    "color_dat = pd.read_csv('../data/TRY_cleaned_colordata.csv')"
   ]
  },
  {
   "cell_type": "code",
   "execution_count": 4,
   "id": "4930fd2c-02c5-4ced-85d5-23c8254f70db",
   "metadata": {},
   "outputs": [
    {
     "data": {
      "text/html": [
       "<div>\n",
       "<style scoped>\n",
       "    .dataframe tbody tr th:only-of-type {\n",
       "        vertical-align: middle;\n",
       "    }\n",
       "\n",
       "    .dataframe tbody tr th {\n",
       "        vertical-align: top;\n",
       "    }\n",
       "\n",
       "    .dataframe thead th {\n",
       "        text-align: right;\n",
       "    }\n",
       "</style>\n",
       "<table border=\"1\" class=\"dataframe\">\n",
       "  <thead>\n",
       "    <tr style=\"text-align: right;\">\n",
       "      <th></th>\n",
       "      <th>AccSpeciesName</th>\n",
       "      <th>OrigValueStr</th>\n",
       "    </tr>\n",
       "  </thead>\n",
       "  <tbody>\n",
       "    <tr>\n",
       "      <th>0</th>\n",
       "      <td>Aconitum napellus</td>\n",
       "      <td>blue</td>\n",
       "    </tr>\n",
       "    <tr>\n",
       "      <th>1</th>\n",
       "      <td>Aconitum degenii</td>\n",
       "      <td>blue</td>\n",
       "    </tr>\n",
       "    <tr>\n",
       "      <th>2</th>\n",
       "      <td>Aconitum pilipes</td>\n",
       "      <td>blue</td>\n",
       "    </tr>\n",
       "    <tr>\n",
       "      <th>3</th>\n",
       "      <td>Aconitum plicatum</td>\n",
       "      <td>blue</td>\n",
       "    </tr>\n",
       "    <tr>\n",
       "      <th>4</th>\n",
       "      <td>Aconitum tauricum</td>\n",
       "      <td>blue</td>\n",
       "    </tr>\n",
       "    <tr>\n",
       "      <th>...</th>\n",
       "      <td>...</td>\n",
       "      <td>...</td>\n",
       "    </tr>\n",
       "    <tr>\n",
       "      <th>17051</th>\n",
       "      <td>Zygotritonia bongensis</td>\n",
       "      <td>orange</td>\n",
       "    </tr>\n",
       "    <tr>\n",
       "      <th>17052</th>\n",
       "      <td>Zygotritonia bongensis</td>\n",
       "      <td>yellow</td>\n",
       "    </tr>\n",
       "    <tr>\n",
       "      <th>17053</th>\n",
       "      <td>Zygotritonia nyassana</td>\n",
       "      <td>green</td>\n",
       "    </tr>\n",
       "    <tr>\n",
       "      <th>17054</th>\n",
       "      <td>Zygotritonia nyassana</td>\n",
       "      <td>purple</td>\n",
       "    </tr>\n",
       "    <tr>\n",
       "      <th>17055</th>\n",
       "      <td>Zygotritonia nyassana</td>\n",
       "      <td>red</td>\n",
       "    </tr>\n",
       "  </tbody>\n",
       "</table>\n",
       "<p>17056 rows × 2 columns</p>\n",
       "</div>"
      ],
      "text/plain": [
       "               AccSpeciesName OrigValueStr\n",
       "0           Aconitum napellus         blue\n",
       "1            Aconitum degenii         blue\n",
       "2            Aconitum pilipes         blue\n",
       "3           Aconitum plicatum         blue\n",
       "4           Aconitum tauricum         blue\n",
       "...                       ...          ...\n",
       "17051  Zygotritonia bongensis       orange\n",
       "17052  Zygotritonia bongensis       yellow\n",
       "17053   Zygotritonia nyassana        green\n",
       "17054   Zygotritonia nyassana       purple\n",
       "17055   Zygotritonia nyassana          red\n",
       "\n",
       "[17056 rows x 2 columns]"
      ]
     },
     "execution_count": 4,
     "metadata": {},
     "output_type": "execute_result"
    }
   ],
   "source": [
    "color_dat"
   ]
  },
  {
   "cell_type": "markdown",
   "id": "0190e624-d93a-4289-af4a-1e18433fe012",
   "metadata": {},
   "source": [
    "### Count the number of colors in the dataset, recognizing that there is some redundancy with capital letters"
   ]
  },
  {
   "cell_type": "code",
   "execution_count": 14,
   "id": "44f226d5-ca57-4526-9715-a86e919a5fe2",
   "metadata": {},
   "outputs": [
    {
     "data": {
      "text/plain": [
       "19"
      ]
     },
     "execution_count": 14,
     "metadata": {},
     "output_type": "execute_result"
    }
   ],
   "source": [
    "len(color_dat.OrigValueStr.unique())"
   ]
  },
  {
   "cell_type": "code",
   "execution_count": 15,
   "id": "03731d1d-9f7a-4ae3-8524-d3dbbf4bcb19",
   "metadata": {},
   "outputs": [
    {
     "data": {
      "text/plain": [
       "11"
      ]
     },
     "execution_count": 15,
     "metadata": {},
     "output_type": "execute_result"
    }
   ],
   "source": [
    "len(color_dat.OrigValueStr.str.lower().unique())"
   ]
  },
  {
   "cell_type": "markdown",
   "id": "ab3aae8d-8566-4384-84c5-c9c2ca1e8bd1",
   "metadata": {},
   "source": [
    "### Count number of species represented -- and see that capitalization is not a factor here!"
   ]
  },
  {
   "cell_type": "code",
   "execution_count": 7,
   "id": "37435dfe-0476-4ba9-83d7-6f9283d17867",
   "metadata": {},
   "outputs": [
    {
     "data": {
      "text/plain": [
       "10440"
      ]
     },
     "execution_count": 7,
     "metadata": {},
     "output_type": "execute_result"
    }
   ],
   "source": [
    "len(color_dat.AccSpeciesName.unique())"
   ]
  },
  {
   "cell_type": "code",
   "execution_count": 10,
   "id": "6712442f-c1af-4ab5-9080-9b2a82526e5a",
   "metadata": {},
   "outputs": [
    {
     "data": {
      "text/plain": [
       "10440"
      ]
     },
     "execution_count": 10,
     "metadata": {},
     "output_type": "execute_result"
    }
   ],
   "source": [
    "len(color_dat.AccSpeciesName.str.lower().unique())"
   ]
  },
  {
   "cell_type": "markdown",
   "id": "4ab1c7a2-b464-4e59-9f7c-346387e98b24",
   "metadata": {},
   "source": [
    "### Recognize that some species names have many words... and some only have one"
   ]
  },
  {
   "cell_type": "code",
   "execution_count": 18,
   "id": "0aca231e-d633-4cac-ae9b-016b7e5a2b97",
   "metadata": {},
   "outputs": [
    {
     "data": {
      "text/plain": [
       "array([1, 2, 3, 4, 5, 6, 7, 8])"
      ]
     },
     "execution_count": 18,
     "metadata": {},
     "output_type": "execute_result"
    }
   ],
   "source": [
    "np.unique([len(i.split()) for i in color_dat.AccSpeciesName])"
   ]
  },
  {
   "cell_type": "code",
   "execution_count": 21,
   "id": "39f69564-dafd-4ff7-9906-c49e6e89c267",
   "metadata": {},
   "outputs": [
    {
     "data": {
      "text/plain": [
       "9         Anagallis arvensis subsp. foemina\n",
       "10        Anagallis arvensis subsp. foemina\n",
       "152      Veronica austriaca subsp. teucrium\n",
       "162             Viola canina subsp. montana\n",
       "164           Viola canina subsp. schultzii\n",
       "                        ...                \n",
       "16797      Vitex madiensis subsp. madiensis\n",
       "16798      Vitex madiensis subsp. madiensis\n",
       "16813      Vitex madiensis subsp. madiensis\n",
       "16814      Vitex madiensis subsp. madiensis\n",
       "16815      Vitex madiensis subsp. madiensis\n",
       "Name: AccSpeciesName, Length: 553, dtype: object"
      ]
     },
     "execution_count": 21,
     "metadata": {},
     "output_type": "execute_result"
    }
   ],
   "source": [
    "# extract those that have four names\n",
    "color_dat.AccSpeciesName[np.array([len(i.split()) for i in color_dat.AccSpeciesName]) == 4]"
   ]
  },
  {
   "cell_type": "code",
   "execution_count": 22,
   "id": "b2efc32c-b8cd-4879-a4f8-c57788be200c",
   "metadata": {},
   "outputs": [
    {
     "data": {
      "text/plain": [
       "7240    Chrysophyllum boukoko nse (Aubrev. & Pellegr.)...\n",
       "7241    Chrysophyllum boukoko nse (Aubrev. & Pellegr.)...\n",
       "8115     Cynanchum daltonii (Decne. ex Webb) Liede & Meve\n",
       "8116     Cynanchum daltonii (Decne. ex Webb) Liede & Meve\n",
       "Name: AccSpeciesName, dtype: object"
      ]
     },
     "execution_count": 22,
     "metadata": {},
     "output_type": "execute_result"
    }
   ],
   "source": [
    "# extract those that have eight names\n",
    "color_dat.AccSpeciesName[np.array([len(i.split()) for i in color_dat.AccSpeciesName]) == 8]"
   ]
  },
  {
   "cell_type": "code",
   "execution_count": 23,
   "id": "f3fe8ff1-f16e-4867-aaff-ee293cb3b28a",
   "metadata": {},
   "outputs": [
    {
     "data": {
      "text/plain": [
       "5447           Albuca\n",
       "5665       Amaranthus\n",
       "6055        Asclepias\n",
       "8193          Cyperus\n",
       "8194          Cyperus\n",
       "8846         Dissotis\n",
       "9563         Eulophia\n",
       "9564         Eulophia\n",
       "9565         Eulophia\n",
       "10246       Gladiolus\n",
       "11650       Kniphofia\n",
       "11738          Kumara\n",
       "11739          Kumara\n",
       "11740          Kumara\n",
       "12172      Lipocarpha\n",
       "12173      Lipocarpha\n",
       "12303        Ludwigia\n",
       "13201           Ochna\n",
       "13202           Ochna\n",
       "13203           Ochna\n",
       "13658        Paspalum\n",
       "13659        Paspalum\n",
       "13932      Petalidium\n",
       "13933      Petalidium\n",
       "14657     Raphionacme\n",
       "14658     Raphionacme\n",
       "14844         Romulea\n",
       "14845         Romulea\n",
       "15390           Senna\n",
       "15465            Sida\n",
       "15466            Sida\n",
       "16838    Wahlenbergia\n",
       "16977     Xysmalobium\n",
       "16978     Xysmalobium\n",
       "Name: AccSpeciesName, dtype: object"
      ]
     },
     "execution_count": 23,
     "metadata": {},
     "output_type": "execute_result"
    }
   ],
   "source": [
    "# extract those that have one name\n",
    "color_dat.AccSpeciesName[np.array([len(i.split()) for i in color_dat.AccSpeciesName]) == 1]"
   ]
  },
  {
   "cell_type": "markdown",
   "id": "0f9de46b-45b1-41de-8be0-88afc7a712ca",
   "metadata": {},
   "source": [
    "### how many have the expected binomial nomenclature?"
   ]
  },
  {
   "cell_type": "code",
   "execution_count": 26,
   "id": "327fb2e0-685d-4ade-ba1c-d7fe219a21ec",
   "metadata": {},
   "outputs": [
    {
     "data": {
      "text/plain": [
       "0             Aconitum napellus\n",
       "1              Aconitum degenii\n",
       "2              Aconitum pilipes\n",
       "3             Aconitum plicatum\n",
       "4             Aconitum tauricum\n",
       "                  ...          \n",
       "17051    Zygotritonia bongensis\n",
       "17052    Zygotritonia bongensis\n",
       "17053     Zygotritonia nyassana\n",
       "17054     Zygotritonia nyassana\n",
       "17055     Zygotritonia nyassana\n",
       "Name: AccSpeciesName, Length: 16362, dtype: object"
      ]
     },
     "execution_count": 26,
     "metadata": {},
     "output_type": "execute_result"
    }
   ],
   "source": [
    "# extract those that have one name\n",
    "color_dat.AccSpeciesName[np.array([len(i.split()) for i in color_dat.AccSpeciesName]) == 2]"
   ]
  },
  {
   "cell_type": "code",
   "execution_count": null,
   "id": "eb7c6094-e015-4f57-9495-7025826f92a9",
   "metadata": {},
   "outputs": [],
   "source": []
  }
 ],
 "metadata": {
  "kernelspec": {
   "display_name": "Python 3 (ipykernel)",
   "language": "python",
   "name": "python3"
  },
  "language_info": {
   "codemirror_mode": {
    "name": "ipython",
    "version": 3
   },
   "file_extension": ".py",
   "mimetype": "text/x-python",
   "name": "python",
   "nbconvert_exporter": "python",
   "pygments_lexer": "ipython3",
   "version": "3.10.5"
  }
 },
 "nbformat": 4,
 "nbformat_minor": 5
}
