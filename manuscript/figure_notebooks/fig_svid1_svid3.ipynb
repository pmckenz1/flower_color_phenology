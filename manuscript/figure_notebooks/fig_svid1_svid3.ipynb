{
 "cells": [
  {
   "cell_type": "markdown",
   "id": "8749bcd5-9dea-4a5a-a774-d086d8b31ad9",
   "metadata": {},
   "source": [
    "# Additional supplementary videos"
   ]
  },
  {
   "cell_type": "code",
   "execution_count": 1,
   "id": "ff78eb1c-82e5-4182-9354-d33da2593c42",
   "metadata": {},
   "outputs": [],
   "source": [
    "import numpy as np\n",
    "import seaborn as sns\n",
    "import os\n",
    "import toyplot\n",
    "import matplotlib.pyplot as plt\n",
    "import pandas as pd\n",
    "from dateutil import parser"
   ]
  },
  {
   "cell_type": "code",
   "execution_count": 2,
   "id": "28586c94-d97e-4c60-b8da-7c2083365803",
   "metadata": {},
   "outputs": [
    {
     "data": {
      "text/plain": [
       "'/Users/patrickmckenzie/googledrive/projects/flower_color_phenology/manuscript/figures_oct_new/figure_notebooks'"
      ]
     },
     "execution_count": 2,
     "metadata": {},
     "output_type": "execute_result"
    }
   ],
   "source": [
    "%pwd"
   ]
  },
  {
   "cell_type": "code",
   "execution_count": 3,
   "id": "1614eea9-d5f0-4673-9bf2-f80e3ffb58da",
   "metadata": {},
   "outputs": [
    {
     "name": "stdout",
     "output_type": "stream",
     "text": [
      "/Users/patrickmckenzie/googledrive/projects/flower_color_phenology\n"
     ]
    }
   ],
   "source": [
    "%cd ../../.."
   ]
  },
  {
   "cell_type": "code",
   "execution_count": 4,
   "id": "e16bebf8-9b34-45e7-ad01-80d18a9c9b70",
   "metadata": {},
   "outputs": [
    {
     "name": "stderr",
     "output_type": "stream",
     "text": [
      "/var/folders/qh/c7rwx84921n2kznn09zb2pnh0000gn/T/ipykernel_550/2078511110.py:1: DtypeWarning: Columns (14,29) have mixed types. Specify dtype option on import or set low_memory=False.\n",
      "  inat_flowering = pd.read_csv('./manuscript/final_data/fulldata_cleaned_matched_GPT_colors.csv')\n"
     ]
    }
   ],
   "source": [
    "inat_flowering = pd.read_csv('./manuscript/final_data/fulldata_cleaned_matched_GPT_colors.csv')"
   ]
  },
  {
   "cell_type": "code",
   "execution_count": 5,
   "id": "e55788df-7d8a-44a0-a29f-bc2db092fe04",
   "metadata": {},
   "outputs": [],
   "source": [
    "whiteyellow = ['white',\n",
    "               #'yellow',\n",
    "               #'green',\n",
    "              ]\n",
    "reds = [#'blue', \n",
    "         #'brown', \n",
    "         #'green', \n",
    "         #'orange', \n",
    "         #'pink', \n",
    "         #'purple', \n",
    "         'red',\n",
    "         #'violet',\n",
    "        #'blue',\n",
    "         #\n",
    "]"
   ]
  },
  {
   "cell_type": "code",
   "execution_count": null,
   "id": "2b54c216-11e5-4b4b-8360-e577f5ff85f3",
   "metadata": {},
   "outputs": [],
   "source": [
    "#starter_val = 85\n",
    "for starter_val in range(0,150):\n",
    "    # save raster output from maxent\n",
    "    density_mat_red = np.genfromtxt(os.path.join('./data/maxent/jan24outputs/red_flowers_troch_bombus_environ_overall',\n",
    "                                                  'red'+'_'+str(starter_val)+\".asc\"),\n",
    "                                     delimiter=' ',\n",
    "                                     skip_header=6)\n",
    "    # remove the nans (maxent saves these as -9999)\n",
    "    density_mat_red[density_mat_red == -9999] = np.nan\n",
    "\n",
    "    # save raster output from maxent\n",
    "    density_mat_white = np.genfromtxt(os.path.join('./data/maxent/jan24outputs/hummingbirds',\n",
    "                                                  'hummingbird'+'_'+str(starter_val)+\".asc\"),\n",
    "                                     delimiter=' ',\n",
    "                                     skip_header=6)\n",
    "    # remove the nans (maxent saves these as -9999)\n",
    "    density_mat_white[density_mat_white == -9999] = np.nan\n",
    "\n",
    "    fig, axs = plt.subplots(ncols=2,nrows=1, gridspec_kw=dict(width_ratios=[1,1]),figsize=(20,6))\n",
    "    fig.suptitle('Days ' + str(starter_val) + '-' + str(starter_val+15),fontsize=20)\n",
    "    sns.heatmap(density_mat_red, ax=axs[0],cbar=False,xticklabels=False,yticklabels=False,cmap=sns.color_palette(\"light:darkblue\", as_cmap=True)).set_title('Red Flowers',fontsize=18);\n",
    "    sns.heatmap(density_mat_white, ax=axs[1],cbar=False,xticklabels=False,yticklabels=False,cmap=sns.color_palette(\"light:darkblue\", as_cmap=True)).set_title('Hummingbirds',fontsize=18);\n",
    "\n",
    "    plt.savefig('./data/maxent/additional_supplement/maps/redwhitehummingbird'+'/red_humm'+str(starter_val)+'.png')"
   ]
  },
  {
   "cell_type": "code",
   "execution_count": 8,
   "id": "189f62c4-b08d-491e-bfca-279d5fa649b9",
   "metadata": {},
   "outputs": [
    {
     "name": "stderr",
     "output_type": "stream",
     "text": [
      "/var/folders/qh/c7rwx84921n2kznn09zb2pnh0000gn/T/ipykernel_550/3298720882.py:7: DeprecationWarning: Starting with ImageIO v3 the behavior of this function will switch to that of iio.v3.imread. To keep the current behavior (and make this warning dissapear) use `import imageio.v2 as imageio` or call `imageio.v2.imread` directly.\n",
      "  image = imageio.imread(filename)\n"
     ]
    }
   ],
   "source": [
    "import imageio\n",
    "\n",
    "filenames = ['./data/maxent/additional_supplement/maps/redwhitehummingbird/'+'red_humm'+str(i) +'.png' for i in range(0,150)]\n",
    "\n",
    "with imageio.get_writer('./data/maxent/additional_supplement/red_humm.gif', mode='I',duration=0.1) as writer:\n",
    "    for filename in filenames:\n",
    "        image = imageio.imread(filename)\n",
    "        writer.append_data(image)"
   ]
  },
  {
   "cell_type": "markdown",
   "id": "22d6ee27-8df9-45f2-a104-f34eae990100",
   "metadata": {},
   "source": [
    "# Now do red, hummingbirds, and white concurrently"
   ]
  },
  {
   "cell_type": "code",
   "execution_count": null,
   "id": "36e360a8-33cd-4897-8b0a-bedfc9bf4e7a",
   "metadata": {},
   "outputs": [],
   "source": [
    "#starter_val = 85\n",
    "for starter_val in range(0,150):\n",
    "    # save raster output from maxent\n",
    "    density_mat_red = np.genfromtxt(os.path.join('./data/maxent/jan24outputs/red_flowers_troch_bombus_environ',\n",
    "                                                  'red'+'_'+str(starter_val)+\".asc\"),\n",
    "                                     delimiter=' ',\n",
    "                                     skip_header=6)\n",
    "    # remove the nans (maxent saves these as -9999)\n",
    "    density_mat_red[density_mat_red == -9999] = np.nan\n",
    "\n",
    "    # save raster output from maxent\n",
    "    density_mat_white = np.genfromtxt(os.path.join('./data/maxent/jan24outputs/white_flowers_troch_bombus_environ',\n",
    "                                                  'white'+'_'+str(starter_val)+\".asc\"),\n",
    "                                     delimiter=' ',\n",
    "                                     skip_header=6)\n",
    "    # remove the nans (maxent saves these as -9999)\n",
    "    density_mat_white[density_mat_white == -9999] = np.nan\n",
    "    \n",
    "        # save raster output from maxent\n",
    "    density_mat_humm = np.genfromtxt(os.path.join('./data/maxent/jan24outputs/hummingbirds',\n",
    "                                                  'hummingbird'+'_'+str(starter_val)+\".asc\"),\n",
    "                                     delimiter=' ',\n",
    "                                     skip_header=6)\n",
    "    # remove the nans (maxent saves these as -9999)\n",
    "    density_mat_humm[density_mat_humm == -9999] = np.nan\n",
    "\n",
    "    fig, axs = plt.subplots(ncols=3,nrows=1, gridspec_kw=dict(width_ratios=[1,1,1]),figsize=(30,6))\n",
    "    fig.suptitle('Days ' + str(starter_val) + '-' + str(starter_val+15),fontsize=20)\n",
    "    sns.heatmap(density_mat_red, ax=axs[0],cbar=False,xticklabels=False,yticklabels=False,cmap=sns.color_palette(\"light:darkblue\", as_cmap=True)).set_title('Red Flowers',fontsize=18);\n",
    "    sns.heatmap(density_mat_humm, ax=axs[1],cbar=False,xticklabels=False,yticklabels=False,cmap=sns.color_palette(\"light:darkblue\", as_cmap=True)).set_title('Hummingbirds',fontsize=18);\n",
    "    sns.heatmap(density_mat_white, ax=axs[2],cbar=False,xticklabels=False,yticklabels=False,cmap=sns.color_palette(\"light:darkblue\", as_cmap=True)).set_title('White Flowers',fontsize=18);\n",
    "\n",
    "    plt.savefig('./data/maxent/additional_supplement/maps/redwhitehummingbird'+'/red_humm_white'+str(starter_val)+'.png')"
   ]
  },
  {
   "cell_type": "code",
   "execution_count": 14,
   "id": "45fde59b-c1c8-478c-b09e-7e918a53d83b",
   "metadata": {},
   "outputs": [
    {
     "name": "stderr",
     "output_type": "stream",
     "text": [
      "/var/folders/qh/c7rwx84921n2kznn09zb2pnh0000gn/T/ipykernel_550/324835734.py:7: DeprecationWarning: Starting with ImageIO v3 the behavior of this function will switch to that of iio.v3.imread. To keep the current behavior (and make this warning dissapear) use `import imageio.v2 as imageio` or call `imageio.v2.imread` directly.\n",
      "  image = imageio.imread(filename)\n"
     ]
    }
   ],
   "source": [
    "import imageio\n",
    "\n",
    "filenames = ['./data/maxent/additional_supplement/maps/redwhitehummingbird/'+'red_humm_white'+str(i) +'.png' for i in range(0,150)]\n",
    "\n",
    "with imageio.get_writer('./data/maxent/additional_supplement/red_humm_white.gif', mode='I',duration=0.1) as writer:\n",
    "    for filename in filenames:\n",
    "        image = imageio.imread(filename)\n",
    "        writer.append_data(image)"
   ]
  },
  {
   "cell_type": "markdown",
   "id": "ab221d04-7341-4c87-bf87-eadbc55613a6",
   "metadata": {},
   "source": [
    "# Now a scatterplot of red flowers vs. all flowers"
   ]
  },
  {
   "cell_type": "markdown",
   "id": "0c55b3ed-98f3-4148-bc91-a7e1d3b4edfa",
   "metadata": {},
   "source": [
    "### Reloading notebook first to clear out variables"
   ]
  },
  {
   "cell_type": "code",
   "execution_count": 1,
   "id": "edff0771-f55d-40ff-807c-f106060dafab",
   "metadata": {},
   "outputs": [],
   "source": [
    "import pandas as pd\n",
    "import numpy as np\n",
    "import os\n",
    "#import rasterio\n",
    "from IPython.display import Image\n",
    "from shutil import rmtree\n",
    "from dateutil import parser\n",
    "import toyplot\n",
    "\n",
    "import seaborn as sns\n",
    "import numpy as np\n",
    "from tqdm.notebook import tqdm"
   ]
  },
  {
   "cell_type": "code",
   "execution_count": 2,
   "id": "3cca1a9e-7538-4e1c-add0-85c0b9c17f53",
   "metadata": {},
   "outputs": [],
   "source": [
    "from shapely.geometry import Point, Polygon\n",
    "import geopandas as gpd\n",
    "from geopandas import GeoDataFrame\n",
    "import matplotlib.pyplot as plt\n",
    "import imageio"
   ]
  },
  {
   "cell_type": "code",
   "execution_count": 3,
   "id": "3f0af335-2c54-4cce-ab15-5955e0420157",
   "metadata": {},
   "outputs": [
    {
     "data": {
      "text/plain": [
       "'/Users/patrickmckenzie/googledrive/projects/flower_color_phenology/manuscript/figures_oct_new/figure_notebooks'"
      ]
     },
     "execution_count": 3,
     "metadata": {},
     "output_type": "execute_result"
    }
   ],
   "source": [
    "%pwd"
   ]
  },
  {
   "cell_type": "code",
   "execution_count": 4,
   "id": "ec85dcbf-6ca5-4bd8-aaf2-ddcca5dea723",
   "metadata": {},
   "outputs": [
    {
     "name": "stdout",
     "output_type": "stream",
     "text": [
      "/Users/patrickmckenzie/googledrive/projects/flower_color_phenology\n"
     ]
    }
   ],
   "source": [
    "%cd ../../.."
   ]
  },
  {
   "cell_type": "code",
   "execution_count": 6,
   "id": "cce3f356-b667-4ba1-bf3a-4718ad59cc8a",
   "metadata": {},
   "outputs": [
    {
     "name": "stderr",
     "output_type": "stream",
     "text": [
      "/var/folders/qh/c7rwx84921n2kznn09zb2pnh0000gn/T/ipykernel_845/2078511110.py:1: DtypeWarning: Columns (14,29) have mixed types. Specify dtype option on import or set low_memory=False.\n",
      "  inat_flowering = pd.read_csv('./manuscript/final_data/fulldata_cleaned_matched_GPT_colors.csv')\n"
     ]
    }
   ],
   "source": [
    "inat_flowering = pd.read_csv('./manuscript/final_data/fulldata_cleaned_matched_GPT_colors.csv')"
   ]
  },
  {
   "cell_type": "code",
   "execution_count": 7,
   "id": "5793b7d5-a895-4768-aecf-253cc6523235",
   "metadata": {},
   "outputs": [],
   "source": [
    "inat_flowering = inat_flowering[inat_flowering.longitude > -96]"
   ]
  },
  {
   "cell_type": "code",
   "execution_count": 9,
   "id": "6f1c7ec2-918e-4f45-96b5-a86615737907",
   "metadata": {},
   "outputs": [],
   "source": [
    "inat_troch = pd.read_csv('./raw_inaturalist_exports/hummingbirds/observations-395877.csv')"
   ]
  },
  {
   "cell_type": "code",
   "execution_count": 10,
   "id": "83e75a01-af63-497d-87d7-f278b734cf2f",
   "metadata": {},
   "outputs": [],
   "source": [
    "days_list = []\n",
    "for date in inat_troch.observed_on:\n",
    "    dt = parser.parse(date)\n",
    "    day_of_year = dt.timetuple().tm_yday\n",
    "    days_list.append(day_of_year)\n",
    "    \n",
    "inat_troch['day_of_year'] = days_list"
   ]
  },
  {
   "cell_type": "code",
   "execution_count": 11,
   "id": "84ef8b47-bc0e-4d6a-b084-6dc0c1e00a83",
   "metadata": {},
   "outputs": [],
   "source": [
    "inat_troch = inat_troch[inat_troch.longitude > -96]"
   ]
  },
  {
   "cell_type": "markdown",
   "id": "ca6a7489-346f-482e-b644-1e9b7205338b",
   "metadata": {},
   "source": [
    "### Get the maps set up"
   ]
  },
  {
   "cell_type": "code",
   "execution_count": 12,
   "id": "c24397a9-61d4-4502-a5b2-8b63fec7cf15",
   "metadata": {},
   "outputs": [],
   "source": [
    "world = gpd.read_file(gpd.datasets.get_path('naturalearth_lowres'))"
   ]
  },
  {
   "cell_type": "code",
   "execution_count": 13,
   "id": "5a7f4161-4e68-4834-95aa-39482541fa46",
   "metadata": {},
   "outputs": [],
   "source": [
    "geometry = [Point(xy) for xy in zip(inat_flowering['longitude'], inat_flowering['latitude'])]\n",
    "gdf = GeoDataFrame(inat_flowering, geometry=geometry)   "
   ]
  },
  {
   "cell_type": "code",
   "execution_count": 14,
   "id": "ec1be907-fb82-40ce-8f2b-f38c6866759b",
   "metadata": {},
   "outputs": [],
   "source": [
    "polygon = Polygon([(-96, 24), (-96, 54), (-59, 54), (-59, 24), (-96, 24)])\n",
    "poly_gdf = gpd.GeoDataFrame([1], geometry=[polygon], crs=world.crs)\n",
    "\n",
    "world_clipped = world.clip(polygon)"
   ]
  },
  {
   "cell_type": "code",
   "execution_count": 15,
   "id": "1d49b1e6-3856-48d3-b9bc-d579365230f6",
   "metadata": {},
   "outputs": [
    {
     "data": {
      "image/png": "[encoded data removed]",
      "text/plain": [
       "<Figure size 720x432 with 1 Axes>"
      ]
     },
     "metadata": {
      "needs_background": "light"
     },
     "output_type": "display_data"
    }
   ],
   "source": [
    "gdf.plot(ax=world_clipped.plot(figsize=(10, 6)), marker='o', color='red', markersize=15);"
   ]
  },
  {
   "cell_type": "markdown",
   "id": "42838228-7b1f-4d44-a681-a030ffb73bb1",
   "metadata": {},
   "source": [
    "### Write out a bunch of maps"
   ]
  },
  {
   "cell_type": "code",
   "execution_count": null,
   "id": "9c58ef5d-bd99-4be9-9e3d-7fa5dbe93775",
   "metadata": {},
   "outputs": [],
   "source": [
    "date_range = range(0, 150,1)\n",
    "for starter_val in date_range:\n",
    "    end_val = starter_val + 7\n",
    "\n",
    "    fig, axs = plt.subplots(ncols=2, nrows=1, gridspec_kw=dict(width_ratios=[1, 1]), figsize=(10, 6))\n",
    "    #fig.suptitle('Days ' + str(starter_val) + '-' + str(starter_val + 15), fontsize=20)\n",
    "    fig.suptitle('Week of Year: ' + str(1+(starter_val // 7)), fontsize=20)\n",
    "\n",
    "    subdf = inat_flowering\n",
    "    subdf = subdf[subdf.day_of_year.isin(list(range(starter_val, end_val)))]\n",
    "\n",
    "    geometry = [Point(xy) for xy in zip(subdf['longitude'], subdf['latitude'])]\n",
    "    gdf = GeoDataFrame(subdf, geometry=geometry)\n",
    "\n",
    "    base_map = world_clipped.plot(ax=axs[0], figsize=(10, 6), facecolor='#2F4F4F')  # Change facecolor here\n",
    "    gdf.plot(ax=base_map, marker='o', color='#DCDCDC', markersize=15, aspect=1.3)\n",
    "\n",
    "    axs[0].set_title(\"Flowers\", fontsize=20)\n",
    "\n",
    "    subdf = inat_troch\n",
    "    subdf = subdf[subdf.day_of_year.isin(list(range(starter_val, end_val)))]\n",
    "\n",
    "    geometry = [Point(xy) for xy in zip(subdf['longitude'], subdf['latitude'])]\n",
    "    gdf = GeoDataFrame(subdf, geometry=geometry)\n",
    "\n",
    "    base_map = world_clipped.plot(ax=axs[1], figsize=(10, 6), facecolor='#2F4F4F')  # Change facecolor here\n",
    "    gdf.plot(ax=base_map, marker='o', color='#DCDCDC', markersize=15, aspect=1.3)\n",
    "\n",
    "    axs[1].set_title(\"Hummingbirds\", fontsize=20)\n",
    "\n",
    "    plt.savefig('./data/maxent/additional_supplement/scatter_gifs/east_humm_allflowers' + str(starter_val) + '.png',dpi=300)\n"
   ]
  },
  {
   "cell_type": "code",
   "execution_count": 22,
   "id": "ff4deb3e-5e74-46b7-8eb6-22a30b9d618a",
   "metadata": {},
   "outputs": [
    {
     "name": "stderr",
     "output_type": "stream",
     "text": [
      "/var/folders/qh/c7rwx84921n2kznn09zb2pnh0000gn/T/ipykernel_845/3078698178.py:7: DeprecationWarning: Starting with ImageIO v3 the behavior of this function will switch to that of iio.v3.imread. To keep the current behavior (and make this warning dissapear) use `import imageio.v2 as imageio` or call `imageio.v2.imread` directly.\n",
      "  image = imageio.imread(filename)\n"
     ]
    }
   ],
   "source": [
    "import imageio\n",
    "\n",
    "filenames = ['./data/maxent/additional_supplement/scatter_gifs/east_humm_allflowers' + str(i) + '.png' for i in range(0,150)]\n",
    "\n",
    "with imageio.get_writer('./data/maxent/additional_supplement/east_humm_allflowers.gif', mode='I',duration=0.1) as writer:\n",
    "    for filename in filenames:\n",
    "        image = imageio.imread(filename)\n",
    "        writer.append_data(image)"
   ]
  },
  {
   "cell_type": "markdown",
   "id": "badae3cc-e965-4618-93c0-c8bf32521dd5",
   "metadata": {},
   "source": [
    "### add in red/orange flowers"
   ]
  },
  {
   "cell_type": "code",
   "execution_count": 28,
   "id": "2e79bbd5-fb7f-476b-8bb0-e0d9e0897807",
   "metadata": {},
   "outputs": [],
   "source": [
    "redorange = inat_flowering[inat_flowering.color.isin(['red','orange'])]"
   ]
  },
  {
   "cell_type": "code",
   "execution_count": null,
   "id": "803ef87d-35f6-49b7-a4a2-a19aef4d2115",
   "metadata": {},
   "outputs": [],
   "source": [
    "date_range = range(0, 150,1)\n",
    "for starter_val in date_range:\n",
    "    end_val = starter_val + 7\n",
    "\n",
    "    fig, axs = plt.subplots(ncols=3, nrows=1, gridspec_kw=dict(width_ratios=[1, 1, 1]), figsize=(15, 6))\n",
    "    #fig.suptitle('Days ' + str(starter_val) + '-' + str(starter_val + 15), fontsize=20)\n",
    "    fig.suptitle('Week of Year: ' + str(1+(starter_val // 7)), fontsize=20)\n",
    "\n",
    "    subdf = inat_flowering\n",
    "    subdf = subdf[subdf.day_of_year.isin(list(range(starter_val, end_val)))]\n",
    "    \n",
    "    ro_sdf = redorange[redorange.day_of_year.isin(list(range(starter_val, end_val)))]\n",
    "\n",
    "    geometry = [Point(xy) for xy in zip(subdf['longitude'], subdf['latitude'])]\n",
    "    gdf = GeoDataFrame(subdf, geometry=geometry)\n",
    "\n",
    "    base_map = world_clipped.plot(ax=axs[0], figsize=(15, 6), facecolor='#2F4F4F')  # Change facecolor here\n",
    "    gdf.plot(ax=base_map, marker='o', color='#DCDCDC', markersize=15, aspect=1.3)\n",
    "\n",
    "    axs[0].set_title(\"All Flowers\", fontsize=20)\n",
    "\n",
    "    subdf = inat_troch\n",
    "    subdf = subdf[subdf.day_of_year.isin(list(range(starter_val, end_val)))]\n",
    "\n",
    "    geometry = [Point(xy) for xy in zip(subdf['longitude'], subdf['latitude'])]\n",
    "    gdf = GeoDataFrame(subdf, geometry=geometry)\n",
    "\n",
    "    base_map = world_clipped.plot(ax=axs[1], figsize=(15, 6), facecolor='#2F4F4F')  # Change facecolor here\n",
    "    gdf.plot(ax=base_map, marker='o', color='#DCDCDC', markersize=15, aspect=1.3)\n",
    "\n",
    "    axs[1].set_title(\"Hummingbirds\", fontsize=20)\n",
    "    \n",
    "    geometry = [Point(xy) for xy in zip(ro_sdf['longitude'], ro_sdf['latitude'])]\n",
    "    gdf = GeoDataFrame(ro_sdf, geometry=geometry)\n",
    "\n",
    "    base_map = world_clipped.plot(ax=axs[2], figsize=(15, 6), facecolor='#2F4F4F')  # Change facecolor here\n",
    "    gdf.plot(ax=base_map, marker='o', color='#DCDCDC', markersize=15, aspect=1.3)\n",
    "\n",
    "    axs[2].set_title(\"Red Flowers\", fontsize=20)\n",
    "\n",
    "    plt.savefig('./data/maxent/additional_supplement/scatter_gifs/east_red_humm_allflowers' + str(starter_val) + '.png',dpi=300)\n"
   ]
  },
  {
   "cell_type": "code",
   "execution_count": 30,
   "id": "51511bbb-492c-4887-9e74-e680379d91fa",
   "metadata": {},
   "outputs": [
    {
     "name": "stderr",
     "output_type": "stream",
     "text": [
      "/var/folders/qh/c7rwx84921n2kznn09zb2pnh0000gn/T/ipykernel_845/2487908762.py:7: DeprecationWarning: Starting with ImageIO v3 the behavior of this function will switch to that of iio.v3.imread. To keep the current behavior (and make this warning dissapear) use `import imageio.v2 as imageio` or call `imageio.v2.imread` directly.\n",
      "  image = imageio.imread(filename)\n"
     ]
    }
   ],
   "source": [
    "import imageio\n",
    "\n",
    "filenames = ['./data/maxent/additional_supplement/scatter_gifs/east_red_humm_allflowers' + str(i) + '.png' for i in range(0,150)]\n",
    "\n",
    "with imageio.get_writer('./data/maxent/additional_supplement/east_red_humm_allflowers.gif', mode='I',duration=0.1) as writer:\n",
    "    for filename in filenames:\n",
    "        image = imageio.imread(filename)\n",
    "        writer.append_data(image)"
   ]
  },
  {
   "cell_type": "code",
   "execution_count": null,
   "id": "40bdc19a-2e1a-45dd-931b-6e414d820de3",
   "metadata": {},
   "outputs": [],
   "source": []
  }
 ],
 "metadata": {
  "kernelspec": {
   "display_name": "Python 3 (ipykernel)",
   "language": "python",
   "name": "python3"
  },
  "language_info": {
   "codemirror_mode": {
    "name": "ipython",
    "version": 3
   },
   "file_extension": ".py",
   "mimetype": "text/x-python",
   "name": "python",
   "nbconvert_exporter": "python",
   "pygments_lexer": "ipython3",
   "version": "3.10.5"
  }
 },
 "nbformat": 4,
 "nbformat_minor": 5
}
