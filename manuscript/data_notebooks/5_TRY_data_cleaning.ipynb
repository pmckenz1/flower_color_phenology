{
 "cells": [
  {
   "cell_type": "markdown",
   "id": "88bd4c8d-1d7d-484c-9b49-0c4d757eda6c",
   "metadata": {},
   "source": [
    "# Merging TRY data with iNaturalist observations"
   ]
  },
  {
   "cell_type": "markdown",
   "id": "4d82ba93-ccae-4fc0-a24f-5ab4c4cc4ff0",
   "metadata": {},
   "source": [
    "## README: \n",
    "This notebook takes the raw TRY data and combines it with the merged iNaturalist data from notebook 1. "
   ]
  },
  {
   "cell_type": "markdown",
   "id": "8095e72d-971c-4078-9314-c41ec2615aa3",
   "metadata": {},
   "source": [
    "## Metadata"
   ]
  },
  {
   "cell_type": "markdown",
   "id": "f473166e-1e85-4809-b26e-2503ae07149c",
   "metadata": {},
   "source": [
    "Here is the request, submitted 13 Oct 2023, downloaded 16 Oct 2023:\n",
    "\n",
    "TRY Data Request 29376  \n",
    "Only public data were requested.  \n",
    "Title:  \n",
    "Using iNaturalist data to characterize relationships between flower color and phenology  \n",
    "Authors:  \n",
    "Patrick McKenzie (Columbia University) PI  \n",
    "Trait List:  \n",
    "207, 3866,  \n",
    "Species List:  \n",
    "  \n",
    "Description:  "
   ]
  },
  {
   "cell_type": "code",
   "execution_count": 1,
   "id": "f5a65e70-c225-4e4c-946d-bed33cd92a02",
   "metadata": {},
   "outputs": [],
   "source": [
    "import pandas as pd\n",
    "import numpy as np"
   ]
  },
  {
   "cell_type": "code",
   "execution_count": 2,
   "id": "d656cb45-67d3-409d-b4d5-a7f17c80d6c2",
   "metadata": {},
   "outputs": [
    {
     "data": {
      "text/plain": [
       "'/Users/patrickmckenzie/googledrive/projects/flower_color_phenology/notebooks'"
      ]
     },
     "execution_count": 2,
     "metadata": {},
     "output_type": "execute_result"
    }
   ],
   "source": [
    "%pwd"
   ]
  },
  {
   "cell_type": "code",
   "execution_count": 3,
   "id": "7cbe4376-33f9-4175-88f9-56b602677e1c",
   "metadata": {},
   "outputs": [
    {
     "name": "stdout",
     "output_type": "stream",
     "text": [
      "/Users/patrickmckenzie/googledrive/projects/flower_color_phenology\n"
     ]
    }
   ],
   "source": [
    "%cd .."
   ]
  },
  {
   "cell_type": "markdown",
   "id": "17d1510d-1d0d-41b3-9e3f-ccaa7087597f",
   "metadata": {},
   "source": [
    "# Open raw data"
   ]
  },
  {
   "cell_type": "code",
   "execution_count": 4,
   "id": "decdba38-d8df-4edf-8db5-0be7827d7dff",
   "metadata": {},
   "outputs": [],
   "source": [
    "raw_color_data = pd.read_csv(filepath_or_buffer='./raw_try_data/29376_13102023214606/29376.txt',sep='\\t', encoding='ISO-8859-1')"
   ]
  },
  {
   "cell_type": "code",
   "execution_count": 5,
   "id": "099d9bd0-9749-401d-ba37-12b99098616a",
   "metadata": {},
   "outputs": [
    {
     "data": {
      "text/plain": [
       "Index(['LastName', 'FirstName', 'DatasetID', 'Dataset', 'SpeciesName',\n",
       "       'AccSpeciesID', 'AccSpeciesName', 'ObservationID', 'ObsDataID',\n",
       "       'TraitID', 'TraitName', 'DataID', 'DataName', 'OriglName',\n",
       "       'OrigValueStr', 'OrigUnitStr', 'ValueKindName', 'OrigUncertaintyStr',\n",
       "       'UncertaintyName', 'Replicates', 'StdValue', 'UnitName',\n",
       "       'RelUncertaintyPercent', 'OrigObsDataID', 'ErrorRisk', 'Reference',\n",
       "       'Comment', 'StdValueStr', 'Unnamed: 28'],\n",
       "      dtype='object')"
      ]
     },
     "execution_count": 5,
     "metadata": {},
     "output_type": "execute_result"
    }
   ],
   "source": [
    "raw_color_data.columns"
   ]
  },
  {
   "cell_type": "markdown",
   "id": "462f6e9d-b4ff-4c47-a4c0-b994814eaf93",
   "metadata": {},
   "source": [
    "# The data is pretty messy. Let's try to isolate categorical colors"
   ]
  },
  {
   "cell_type": "markdown",
   "id": "a935c01a-d6e4-4619-8e91-7e792a76ce19",
   "metadata": {},
   "source": [
    "### find all one-word flower-color labels"
   ]
  },
  {
   "cell_type": "code",
   "execution_count": 6,
   "id": "a52ee7bf-cd8f-4fcc-90be-fe1bcb4c3cca",
   "metadata": {},
   "outputs": [
    {
     "data": {
      "text/plain": [
       "array(['/', '01/01/2015', '01/02/2015', '01/03/2015', '01/04/2015',\n",
       "       '01/05/2015', '01/06/2015', '01/07/2015', '01/08/2015',\n",
       "       '01/09/2015', '01/10/2015', '01/11/2015', '01/12/2015',\n",
       "       '01/13/2015', '01/14/2015', '01/15/2015', '01/16/2015',\n",
       "       '01/17/2015', '01/18/2015', '01/19/2015', '01/20/2015',\n",
       "       '01/21/2015', '01/22/2015', '01/23/2015', '01/24/2015',\n",
       "       '01/25/2015', '01/26/2015', '01/27/2015', '01/28/2015',\n",
       "       '01/29/2015', '01/30/2015', '01/31/2015', '02/01/2015',\n",
       "       '02/02/2015', '02/03/2015', '02/04/2015', '02/05/2015',\n",
       "       '02/06/2015', '02/07/2015', '02/08/2015', '02/09/2015',\n",
       "       '02/10/2015', '02/11/2015', '02/12/2015', '02/13/2015',\n",
       "       '02/14/2015', '02/15/2015', '02/16/2015', '02/17/2015',\n",
       "       '02/18/2015', '02/19/2015', '02/20/2015', '02/21/2015',\n",
       "       '02/22/2015', '02/23/2015', '02/24/2015', '02/25/2015',\n",
       "       '02/26/2015', '02/27/2015', '02/28/2015', '03/01/2015',\n",
       "       '03/02/2015', '03/03/2015', '03/04/2015', '03/05/2015',\n",
       "       '03/06/2015', '03/07/2015', '03/08/2015', '03/09/2015',\n",
       "       '03/10/2015', '03/11/2015', '03/12/2015', '03/13/2015',\n",
       "       '03/14/2015', '03/15/2015', '03/16/2015', '03/17/2015',\n",
       "       '03/18/2015', '03/19/2015', '03/20/2015', '03/21/2015',\n",
       "       '03/22/2015', '03/23/2015', '03/24/2015', '03/25/2015',\n",
       "       '03/26/2015', '03/27/2015', '03/28/2015', '03/29/2015',\n",
       "       '03/30/2015', '03/31/2015', '04/01/2015', '04/02/2015',\n",
       "       '04/03/2015', '04/04/2015', '04/05/2015', '04/06/2015',\n",
       "       '04/07/2015', '04/08/2015', '04/09/2015', '04/10/2015',\n",
       "       '04/11/2015', '04/12/2015', '04/13/2015', '04/14/2015',\n",
       "       '04/15/2015', '04/16/2015', '04/17/2015', '04/18/2015',\n",
       "       '04/19/2015', '04/20/2015', '04/21/2015', '04/22/2015',\n",
       "       '04/23/2015', '04/24/2015', '04/25/2015', '04/26/2015',\n",
       "       '04/27/2015', '04/28/2015', '04/29/2015', '04/30/2015',\n",
       "       '05/01/2015', '05/02/2015', '05/03/2015', '05/04/2015',\n",
       "       '05/05/2015', '05/06/2015', '05/07/2015', '05/08/2015',\n",
       "       '05/09/2015', '05/10/2015', '05/11/2015', '05/12/2015',\n",
       "       '05/13/2015', '05/14/2015', '05/15/2015', '05/16/2015',\n",
       "       '05/17/2015', '05/18/2015', '05/19/2015', '05/20/2015',\n",
       "       '05/21/2015', '05/22/2015', '05/23/2015', '05/24/2015',\n",
       "       '05/25/2015', '05/26/2015', '05/27/2015', '05/28/2015',\n",
       "       '05/29/2015', '05/30/2015', '05/31/2015', '06/01/2015',\n",
       "       '06/02/2015', '06/03/2015', '06/04/2015', '06/05/2015',\n",
       "       '06/06/2015', '06/07/2015', '06/08/2015', '06/09/2015',\n",
       "       '06/10/2015', '06/11/2015', '06/12/2015', '06/13/2015',\n",
       "       '06/14/2015', '06/15/2015', '06/16/2015', '06/17/2015',\n",
       "       '06/18/2015', '06/19/2015', '06/20/2015', '12/01/2014',\n",
       "       '12/02/2014', '12/03/2014', '12/04/2014', '12/05/2014',\n",
       "       '12/06/2014', '12/07/2014', '12/08/2014', '12/09/2014',\n",
       "       '12/10/2014', '12/11/2014', '12/12/2014', '12/13/2014',\n",
       "       '12/14/2014', '12/15/2014', '12/16/2014', '12/17/2014',\n",
       "       '12/18/2014', '12/19/2014', '12/20/2014', '12/21/2014',\n",
       "       '12/22/2014', '12/23/2014', '12/24/2014', '12/25/2014',\n",
       "       '12/26/2014', '12/27/2014', '12/28/2014', '12/29/2014',\n",
       "       '12/30/2014', '12/31/2014', '1230-1300', '1230-1301', '1230-1302',\n",
       "       '1230-1303', '1230-1304', '1230-1305', '1230-1306', '1230-1307',\n",
       "       '1230-1308', '1230-1309', '1230-1310', '1230-1311', '1230-1312',\n",
       "       '1230-1313', '1230-1314', '1230-1315', '1230-1316', '1230-1317',\n",
       "       '1230-1318', '1230-1319', '1230-1320', '1230-1321', '1230-1322',\n",
       "       '1230-1323', '1230-1324', '1230-1325', '1230-1326', '1230-1327',\n",
       "       '1230-1328', '1230-1329', '1230-1330', '1230-1331', '1230-1332',\n",
       "       '1230-1333', '1230-1334', '1230-1335', '1230-1336', '1230-1337',\n",
       "       '1230-1338', '1230-1339', '1230-1340', '1230-1341', '1230-1342',\n",
       "       '1230-1343', '1230-1344', '1230-1345', '1230-1346', '1230-1347',\n",
       "       '1230-1348', '1230-1349', '1230-1350', '1230-1351', '1230-1352',\n",
       "       '1230-1353', '1230-1354', '1230-1355', '1230-1356', '1230-1357',\n",
       "       '1230-1358', '1230-1359', '1230-1360', '1230-1361', '1230-1362',\n",
       "       '1230-1363', '1230-1364', '1230-1365', '1230-1366', '1230-1367',\n",
       "       '1230-1368', '1230-1369', '1230-1370', '1230-1371', '1230-1372',\n",
       "       '1230-1373', '1230-1374', '1230-1375', '1230-1376', '1230-1377',\n",
       "       '1230-1378', '1230-1379', '1230-1380', '1230-1381', '1230-1382',\n",
       "       '1230-1383', '1230-1384', '1230-1385', '1230-1386', '1230-1387',\n",
       "       '1230-1388', '1230-1389', '1230-1390', '1230-1391', '1230-1392',\n",
       "       '1230-1393', '1230-1394', '1230-1395', '1230-1396', '1230-1397',\n",
       "       '1230-1398', '1230-1399', '1230-1400', '1230-1401', '1230-1402',\n",
       "       '1230-1403', '1230-1404', '1230-1405', '1230-1406', '1230-1407',\n",
       "       '1230-1408', '1230-1409', '1230-1410', '1230-1411', '1230-1412',\n",
       "       '1230-1413', '1230-1414', '1230-1415', '1230-1416', '1230-1417',\n",
       "       '1230-1418', '1230-1419', '1230-1420', '1230-1421', '1230-1422',\n",
       "       '1230-1423', '1230-1424', '1230-1425', '1230-1426', '1230-1427',\n",
       "       '1230-1428', '1230-1429', '1230-1430', '1230-1431', '1230-1432',\n",
       "       '1230-1433', '1230-1434', '1230-1435', '1230-1436', '1230-1437',\n",
       "       '1230-1438', '1230-1439', '1230-1440', '1230-1441', '1230-1442',\n",
       "       '1230-1443', '1230-1444', '1230-1445', '1230-1446', '1230-1447',\n",
       "       '1230-1448', '1230-1449', '1230-1450', '1230-1451', '1230-1452',\n",
       "       '1230-1453', '1230-1454', '1230-1455', '1230-1456', '1230-1457',\n",
       "       '1230-1458', '1230-1459', '1230-1460', '1230-1461', '1230-1462',\n",
       "       '1230-1463', '1230-1464', '1230-1465', '1230-1466', '1230-1467',\n",
       "       '1230-1468', '1230-1469', '1230-1470', '1230-1471', '1230-1472',\n",
       "       '1230-1473', '1230-1474', '1230-1475', '1230-1476', '1230-1477',\n",
       "       '1230-1478', '1230-1479', '1230-1480', '1230-1481', '1230-1482',\n",
       "       '1230-1483', '1230-1484', '1230-1485', '1230-1486', '1230-1487',\n",
       "       '1230-1488', '1230-1489', '1230-1490', '1230-1491', '1230-1492',\n",
       "       '1230-1493', '1230-1494', '1230-1495', '1230-1496', '1230-1497',\n",
       "       '1230-1498', '1230-1499', '1230-1500', '1230-1501', '4,45N',\n",
       "       '75,22W', 'Acanthaceae', 'Adoxaceae', 'Anacardiaceae',\n",
       "       'Annonaceae', 'Apocynaceae', 'Araliaceae', 'Araucariaceae',\n",
       "       'Arecaceae', 'Asparagaceae', 'Asteraceae', 'Bignoniaceae',\n",
       "       'Bixaceae', 'Black', 'Blue', 'Boraginaceae', 'Brown',\n",
       "       'Burseraceae', 'Cactaceae', 'Calophyllaceae', 'Caricaceae',\n",
       "       'Casuarinaceae', 'Chrysobalanaceae', 'Clusiaceae', 'Combretaceae',\n",
       "       'Compositae', 'Cupressaceae', 'Cycadaceae', 'Erythroxylaceae',\n",
       "       'Euphorbiaceae', 'Green', 'Lacistemataceae', 'Lauraceae',\n",
       "       'Leguminosae', 'Lythraceae', 'Malpighiaceae', 'Malvaceae',\n",
       "       'Mature', 'Melastomataceae', 'Meliaceae', 'Moraceae',\n",
       "       'Muntingiaceae', 'Myrsinaceae', 'Myrtaceae', 'Nyctaginaceae',\n",
       "       'Oleaceae', 'Orange', 'Oxalidaceae', 'Phyllanthaceae', 'Pinaceae',\n",
       "       'Piperaceae', 'Polygonaceae', 'Purple', 'Red', 'Rhamnaceae',\n",
       "       'Rubiaceae', 'Rutáceae', 'Salicaceae', 'Sapindaceae', 'Sapotaceae',\n",
       "       'Solanaceae', 'Thymelaeaceae', 'Urticaceae', 'Verbenaceae',\n",
       "       'White', 'Yellow', 'Zygophyllaceae', 'amarillo', 'azurblau',\n",
       "       'blanco', 'blassblau', 'blassbläulich', 'blassgelb',\n",
       "       'blassgelblich', 'blassgrün', 'blassgrünlich', 'blasslila',\n",
       "       'blassrosa', 'blassrot', 'blassviolett', 'blau', 'blaugrün',\n",
       "       'blaulila', 'blauviolett', 'bleichgelb', 'blue', 'blutrot',\n",
       "       'bläulich', 'bläulichweiß', 'braun', 'braun-violett', 'braunlila',\n",
       "       'braunpurpurn', 'braunrot', 'bronzebräunlich', 'brown',\n",
       "       'bräunlich', 'bräunlichgelb', 'bräunlichrot', 'bräunlichweiß',\n",
       "       'bunt', 'café', 'cream', 'cremefarben', 'cremeweiß', 'dottergelb',\n",
       "       'dunkelblau', 'dunkelbraun', 'dunkelgelb', 'dunkelgrün',\n",
       "       'dunkelolivgrün', 'dunkelpurpurn', 'dunkelrosa', 'dunkelrot',\n",
       "       'dunkelviolett', 'fleischfarben', 'fleischrosa', 'fleischrot',\n",
       "       'fucsia', 'gelb', 'gelbbraun', 'gelbgrün', 'gelbich', 'gelblich',\n",
       "       'gelblich-bräunlich', 'gelblich-chromgrün', 'gelblich-grünlich',\n",
       "       'gelblich-trübrot', 'gelblichgrün', 'gelblichgrün,grün',\n",
       "       'gelblichweiß', 'golbgelb', 'goldgelb', 'graugrün', 'green',\n",
       "       'grün', 'grüngelblich', 'grünlich', 'grünlich-chromgelb',\n",
       "       'grünlich-gelblich', 'grünlichbraun', 'grünlichgelb',\n",
       "       'grünlichweiß', 'hellblau', 'hellbraun', 'hellgelb', 'hellgrün',\n",
       "       'hellpurpurn', 'hellrosa', 'hellrot', 'hellviolett', 'himmelblau',\n",
       "       'karminrot', 'kastanienbraun', 'lederbraun', 'lila', 'lilapurpurn',\n",
       "       'lilarosa', 'marron', 'mattweiß', 'morado', 'nan', 'naranja',\n",
       "       'ockergelb', 'orange', 'orange-rot', 'orangegelb', 'orangerot',\n",
       "       'pink', 'pupurviolett', 'purple', 'purpun', 'purpurbraun',\n",
       "       'purpurkarminrot', 'purpurn', 'purpurrosa', 'purpurrot',\n",
       "       'purpurviolett', 'rahmweiß', 'red', 'reinweiß', 'rojo', 'rosa',\n",
       "       'rosa-lila', 'rosado', 'rosalila', 'rosarot', 'rosenrot', 'rot',\n",
       "       'rotbraun', 'rotlila', 'rotviolett', 'rötlich', 'rötlichbraun',\n",
       "       'rötlichgelb', 'rötlichgrün', 'rötlichlila', 'rötlichviolett',\n",
       "       'rötlichweiß', 'sattgelb', 'scharlachrot', 'schmutziggelb',\n",
       "       'schmutzigweiß', 'schokoladenbraun', 'schwarzblau', 'schwarzbraun',\n",
       "       'schwefelgelb', 'solanacea', 'strohgelb', 'tiefblau', 'tiefrosa',\n",
       "       'tiefrot', 'trüblila', 'trübpurpurn', 'trübrosa', 'trübrot',\n",
       "       'verde', 'verschieden', 'verschiedenfarbig', 'vielfarbig',\n",
       "       'violet', 'violett', 'violettblau', 'violettrosa', 'violettrot',\n",
       "       'weiß', 'weißlich', 'weißlich-gelbgrün', 'weißlichgelb',\n",
       "       'weißlichgrün', 'weißrandig', 'white', 'yellow', 'ziegelrot',\n",
       "       'zitronengelb'], dtype='<U18')"
      ]
     },
     "execution_count": 6,
     "metadata": {},
     "output_type": "execute_result"
    }
   ],
   "source": [
    "np.unique(list(np.array([str(i) for i in raw_color_data.OrigValueStr])[np.array([len(str(i).split(' ')) for i in raw_color_data.OrigValueStr]) < 2]))"
   ]
  },
  {
   "cell_type": "markdown",
   "id": "5218e7ea-06c2-43dc-a9c8-de7e48baf4e4",
   "metadata": {},
   "source": [
    "# Try isolating real color labels\n",
    "[Black,Blue,Brown,Green,Orange,Purple,Red,White,Yellow,Pink,Violet]"
   ]
  },
  {
   "cell_type": "markdown",
   "id": "234dd16a-3558-4ec5-86c7-0d9cf4e54448",
   "metadata": {},
   "source": [
    "### Just narrow down to rows where the OrigValueStr column has one of these colors"
   ]
  },
  {
   "cell_type": "code",
   "execution_count": 7,
   "id": "21b15e14-741a-4689-a585-010499455802",
   "metadata": {},
   "outputs": [],
   "source": [
    "simple_species_cols = raw_color_data.iloc[np.array([str(i).lower() in [\"black\",\"blue\",\"brown\",\"green\",\"orange\",\"purple\",\"red\",\"white\",\"yellow\",\"pink\",\"violet\"] for i in raw_color_data.OrigValueStr])]"
   ]
  },
  {
   "cell_type": "markdown",
   "id": "76a461a4-efe6-498a-9e2f-4cc5f7b5aecf",
   "metadata": {},
   "source": [
    "### Add a column for the lowercase scientific names"
   ]
  },
  {
   "cell_type": "code",
   "execution_count": 8,
   "id": "c7f32d04-a280-4329-8462-06247750df9a",
   "metadata": {},
   "outputs": [
    {
     "name": "stderr",
     "output_type": "stream",
     "text": [
      "/var/folders/qh/c7rwx84921n2kznn09zb2pnh0000gn/T/ipykernel_5815/2641763539.py:1: SettingWithCopyWarning: \n",
      "A value is trying to be set on a copy of a slice from a DataFrame.\n",
      "Try using .loc[row_indexer,col_indexer] = value instead\n",
      "\n",
      "See the caveats in the documentation: https://pandas.pydata.org/pandas-docs/stable/user_guide/indexing.html#returning-a-view-versus-a-copy\n",
      "  simple_species_cols['AccSpeciesName_lower'] = [i.lower() for i in simple_species_cols['AccSpeciesName']]\n"
     ]
    }
   ],
   "source": [
    "simple_species_cols['AccSpeciesName_lower'] = [i.lower() for i in simple_species_cols['AccSpeciesName']]"
   ]
  },
  {
   "cell_type": "code",
   "execution_count": 9,
   "id": "3dd37747-68f0-4231-ab8d-308c3485f37a",
   "metadata": {},
   "outputs": [
    {
     "data": {
      "text/plain": [
       "17137"
      ]
     },
     "execution_count": 9,
     "metadata": {},
     "output_type": "execute_result"
    }
   ],
   "source": [
    "len(simple_species_cols.index)"
   ]
  },
  {
   "cell_type": "markdown",
   "id": "2bdf0e23-5e10-4655-954d-0f71f2839a7b",
   "metadata": {},
   "source": [
    "# Now match up to the inaturalist data"
   ]
  },
  {
   "cell_type": "code",
   "execution_count": 10,
   "id": "e726a898-1a28-4383-a92f-900f3d5b3817",
   "metadata": {},
   "outputs": [
    {
     "name": "stderr",
     "output_type": "stream",
     "text": [
      "/var/folders/qh/c7rwx84921n2kznn09zb2pnh0000gn/T/ipykernel_5815/41183330.py:1: DtypeWarning: Columns (0,5,14,18,19,20,29,31) have mixed types. Specify dtype option on import or set low_memory=False.\n",
      "  fullinat=pd.read_csv('./data/combined_raw_inaturalist_export.csv')\n"
     ]
    }
   ],
   "source": [
    "fullinat=pd.read_csv('./data/combined_raw_inaturalist_export.csv')"
   ]
  },
  {
   "cell_type": "code",
   "execution_count": 11,
   "id": "e0274a24-1f5d-4160-ade5-d3cc0349a05a",
   "metadata": {},
   "outputs": [
    {
     "data": {
      "text/plain": [
       "13847"
      ]
     },
     "execution_count": 11,
     "metadata": {},
     "output_type": "execute_result"
    }
   ],
   "source": [
    "len(np.unique([' '.join(str(i).split(' ')[:2]) for i in fullinat.scientific_name]))"
   ]
  },
  {
   "cell_type": "markdown",
   "id": "8fe29437-dae2-452f-9da9-b2ac771b0a41",
   "metadata": {},
   "source": [
    "## there are 13,847 total species in the inaturalist dataset"
   ]
  },
  {
   "cell_type": "markdown",
   "id": "5ab0dea2-1bf8-4069-b554-588df2b92515",
   "metadata": {},
   "source": [
    "# How many of these do we have colors for?"
   ]
  },
  {
   "cell_type": "code",
   "execution_count": 12,
   "id": "35d3ac83-556c-44dc-92b2-3328b8c7c58e",
   "metadata": {},
   "outputs": [],
   "source": [
    "names_list = []\n",
    "colors_list = []\n",
    "for idx, inat_obs_name in enumerate(np.unique([str(i) for i in fullinat.scientific_name])):\n",
    "    subdf = simple_species_cols[simple_species_cols.AccSpeciesName_lower.eq(inat_obs_name.lower())][['AccSpeciesName_lower','OrigValueStr']]\n",
    "    if len(subdf.index):\n",
    "        names_list.extend(subdf['AccSpeciesName_lower'])\n",
    "        colors_list.extend(subdf['OrigValueStr'])"
   ]
  },
  {
   "cell_type": "code",
   "execution_count": 13,
   "id": "aed9021d-b3bc-4bdf-9901-985fe2dd8088",
   "metadata": {},
   "outputs": [
    {
     "data": {
      "text/plain": [
       "3385"
      ]
     },
     "execution_count": 13,
     "metadata": {},
     "output_type": "execute_result"
    }
   ],
   "source": [
    "len(names_list)"
   ]
  },
  {
   "cell_type": "code",
   "execution_count": 14,
   "id": "bdb9a4bf-3c97-408c-8b33-674987df60f9",
   "metadata": {},
   "outputs": [
    {
     "data": {
      "text/plain": [
       "2527"
      ]
     },
     "execution_count": 14,
     "metadata": {},
     "output_type": "execute_result"
    }
   ],
   "source": [
    "len(np.unique(names_list))"
   ]
  },
  {
   "cell_type": "code",
   "execution_count": 15,
   "id": "37c53548-9a6d-42a0-8bfc-a99c2926141b",
   "metadata": {},
   "outputs": [
    {
     "data": {
      "text/plain": [
       "0.18249440311980936"
      ]
     },
     "execution_count": 15,
     "metadata": {},
     "output_type": "execute_result"
    }
   ],
   "source": [
    "# proportion of species for which we have color data\n",
    "2527 / 13847"
   ]
  },
  {
   "cell_type": "markdown",
   "id": "05c854e4-86e1-40c9-815f-bb93968280ad",
   "metadata": {},
   "source": [
    "### We have colors for 2,527 of the species"
   ]
  },
  {
   "cell_type": "markdown",
   "id": "a40e8f28-c37e-45ec-9a2b-432d29c9344f",
   "metadata": {},
   "source": [
    "# How many total observations have colors accompanying them?"
   ]
  },
  {
   "cell_type": "markdown",
   "id": "f11c3229-f372-4bf8-8166-0a40826b65ff",
   "metadata": {},
   "source": [
    "### how many obervations are there?"
   ]
  },
  {
   "cell_type": "code",
   "execution_count": 16,
   "id": "9bd36244-e448-4926-97b6-4db5529190fb",
   "metadata": {},
   "outputs": [
    {
     "data": {
      "text/plain": [
       "1763883"
      ]
     },
     "execution_count": 16,
     "metadata": {},
     "output_type": "execute_result"
    }
   ],
   "source": [
    "len(fullinat.index)"
   ]
  },
  {
   "cell_type": "markdown",
   "id": "b1c0414e-427d-467b-8230-b1399f3da86f",
   "metadata": {},
   "source": [
    "### how many of these are in the color dataset?"
   ]
  },
  {
   "cell_type": "code",
   "execution_count": 17,
   "id": "9f68636a-64eb-4f79-b6d9-cd19eb69e137",
   "metadata": {},
   "outputs": [
    {
     "data": {
      "text/plain": [
       "673100"
      ]
     },
     "execution_count": 17,
     "metadata": {},
     "output_type": "execute_result"
    }
   ],
   "source": [
    "color_present = 0\n",
    "for spname in fullinat.scientific_name:\n",
    "    color_present += ' '.join(str(spname).lower().split(' ')[:2]) in names_list # just taking the first two names -- agnostic to subspecies\n",
    "color_present"
   ]
  },
  {
   "cell_type": "code",
   "execution_count": 18,
   "id": "af8f02c3-6805-4ac2-83eb-00dfaa7edbe4",
   "metadata": {},
   "outputs": [
    {
     "data": {
      "text/plain": [
       "0.381601274007403"
      ]
     },
     "execution_count": 18,
     "metadata": {},
     "output_type": "execute_result"
    }
   ],
   "source": [
    "# proportion of obserations for which we have flower color\n",
    "673100 / 1763883"
   ]
  },
  {
   "cell_type": "markdown",
   "id": "eaa5b3fd-a3e7-41cb-9191-697beaa2c9de",
   "metadata": {},
   "source": [
    "# Make the final mapping csv\n",
    "### This will include some species with repeated or different color labels"
   ]
  },
  {
   "cell_type": "code",
   "execution_count": 19,
   "id": "bd374685-af3f-47ab-bf1d-adfd0ce5fba5",
   "metadata": {},
   "outputs": [
    {
     "data": {
      "text/html": [
       "<div>\n",
       "<style scoped>\n",
       "    .dataframe tbody tr th:only-of-type {\n",
       "        vertical-align: middle;\n",
       "    }\n",
       "\n",
       "    .dataframe tbody tr th {\n",
       "        vertical-align: top;\n",
       "    }\n",
       "\n",
       "    .dataframe thead th {\n",
       "        text-align: right;\n",
       "    }\n",
       "</style>\n",
       "<table border=\"1\" class=\"dataframe\">\n",
       "  <thead>\n",
       "    <tr style=\"text-align: right;\">\n",
       "      <th></th>\n",
       "      <th>species_name</th>\n",
       "      <th>color</th>\n",
       "    </tr>\n",
       "  </thead>\n",
       "  <tbody>\n",
       "    <tr>\n",
       "      <th>0</th>\n",
       "      <td>abelmoschus esculentus</td>\n",
       "      <td>red</td>\n",
       "    </tr>\n",
       "    <tr>\n",
       "      <th>1</th>\n",
       "      <td>abelmoschus esculentus</td>\n",
       "      <td>white</td>\n",
       "    </tr>\n",
       "    <tr>\n",
       "      <th>2</th>\n",
       "      <td>abelmoschus esculentus</td>\n",
       "      <td>yellow</td>\n",
       "    </tr>\n",
       "    <tr>\n",
       "      <th>3</th>\n",
       "      <td>abrus precatorius</td>\n",
       "      <td>pink</td>\n",
       "    </tr>\n",
       "    <tr>\n",
       "      <th>4</th>\n",
       "      <td>abutilon fruticosum</td>\n",
       "      <td>orange</td>\n",
       "    </tr>\n",
       "    <tr>\n",
       "      <th>...</th>\n",
       "      <td>...</td>\n",
       "      <td>...</td>\n",
       "    </tr>\n",
       "    <tr>\n",
       "      <th>3380</th>\n",
       "      <td>zinnia peruviana</td>\n",
       "      <td>red</td>\n",
       "    </tr>\n",
       "    <tr>\n",
       "      <th>3381</th>\n",
       "      <td>zinnia peruviana</td>\n",
       "      <td>yellow</td>\n",
       "    </tr>\n",
       "    <tr>\n",
       "      <th>3382</th>\n",
       "      <td>zizania aquatica</td>\n",
       "      <td>Green</td>\n",
       "    </tr>\n",
       "    <tr>\n",
       "      <th>3383</th>\n",
       "      <td>zizaniopsis miliacea</td>\n",
       "      <td>Yellow</td>\n",
       "    </tr>\n",
       "    <tr>\n",
       "      <th>3384</th>\n",
       "      <td>zoysia matrella</td>\n",
       "      <td>Yellow</td>\n",
       "    </tr>\n",
       "  </tbody>\n",
       "</table>\n",
       "<p>3385 rows × 2 columns</p>\n",
       "</div>"
      ],
      "text/plain": [
       "                species_name   color\n",
       "0     abelmoschus esculentus     red\n",
       "1     abelmoschus esculentus   white\n",
       "2     abelmoschus esculentus  yellow\n",
       "3          abrus precatorius    pink\n",
       "4        abutilon fruticosum  orange\n",
       "...                      ...     ...\n",
       "3380        zinnia peruviana     red\n",
       "3381        zinnia peruviana  yellow\n",
       "3382        zizania aquatica   Green\n",
       "3383    zizaniopsis miliacea  Yellow\n",
       "3384         zoysia matrella  Yellow\n",
       "\n",
       "[3385 rows x 2 columns]"
      ]
     },
     "execution_count": 19,
     "metadata": {},
     "output_type": "execute_result"
    }
   ],
   "source": [
    "cleaned_matched_csv = pd.DataFrame([names_list,colors_list],index=['species_name','color']).T\n",
    "cleaned_matched_csv"
   ]
  },
  {
   "cell_type": "code",
   "execution_count": 20,
   "id": "c00dc833-38c9-4982-a4ff-57a0322bcc3f",
   "metadata": {},
   "outputs": [],
   "source": [
    "cleaned_matched_csv.to_csv('data/cleaned_matched_colors.csv')"
   ]
  }
 ],
 "metadata": {
  "kernelspec": {
   "display_name": "Python 3 (ipykernel)",
   "language": "python",
   "name": "python3"
  },
  "language_info": {
   "codemirror_mode": {
    "name": "ipython",
    "version": 3
   },
   "file_extension": ".py",
   "mimetype": "text/x-python",
   "name": "python",
   "nbconvert_exporter": "python",
   "pygments_lexer": "ipython3",
   "version": "3.10.5"
  }
 },
 "nbformat": 4,
 "nbformat_minor": 5
}
