{
 "cells": [
  {
   "cell_type": "markdown",
   "id": "df5ca7e7-6ad7-4614-a9ca-358b42d860a2",
   "metadata": {},
   "source": [
    "# Demonstrate GPT-vision"
   ]
  },
  {
   "cell_type": "markdown",
   "id": "9c03a92b-e741-42d7-8b6e-d322c7bc3bff",
   "metadata": {},
   "source": [
    "### This is a demo notebook meant to illustrate how easy it is to get flower colors from photos, using the flower color + phenology project data as an example."
   ]
  },
  {
   "cell_type": "code",
   "execution_count": 1,
   "id": "634e0e5b-158a-4dfb-981c-4fba9dbf88a5",
   "metadata": {},
   "outputs": [],
   "source": [
    "import pandas as pd\n",
    "import numpy as np\n",
    "from openai import OpenAI\n",
    "import time\n",
    "\n",
    "# load GPT client\n",
    "client = OpenAI(\n",
    "    api_key='your-key-goes-here' # fill in your api key here\n",
    ")"
   ]
  },
  {
   "cell_type": "markdown",
   "id": "35970aac-8180-4124-a4c4-ca3197d439ae",
   "metadata": {},
   "source": [
    "# 0) Load and prepare data"
   ]
  },
  {
   "cell_type": "markdown",
   "id": "3d77cd70-6522-4f9e-97a2-b38441ea5f81",
   "metadata": {},
   "source": [
    "### This is a big CSV of inaturalist observations"
   ]
  },
  {
   "cell_type": "code",
   "execution_count": 2,
   "id": "4bd06842-c837-49e6-a308-3b67725cf33e",
   "metadata": {},
   "outputs": [
    {
     "name": "stderr",
     "output_type": "stream",
     "text": [
      "/var/folders/qh/c7rwx84921n2kznn09zb2pnh0000gn/T/ipykernel_33906/1648420847.py:3: DtypeWarning: Columns (0,5,14,18,19,20,29,31) have mixed types. Specify dtype option on import or set low_memory=False.\n",
      "  inat_data = pd.read_csv('../data/combined_raw_inaturalist_export.csv')\n"
     ]
    },
    {
     "data": {
      "text/html": [
       "<div>\n",
       "<style scoped>\n",
       "    .dataframe tbody tr th:only-of-type {\n",
       "        vertical-align: middle;\n",
       "    }\n",
       "\n",
       "    .dataframe tbody tr th {\n",
       "        vertical-align: top;\n",
       "    }\n",
       "\n",
       "    .dataframe thead th {\n",
       "        text-align: right;\n",
       "    }\n",
       "</style>\n",
       "<table border=\"1\" class=\"dataframe\">\n",
       "  <thead>\n",
       "    <tr style=\"text-align: right;\">\n",
       "      <th></th>\n",
       "      <th>id</th>\n",
       "      <th>observed_on_string</th>\n",
       "      <th>observed_on</th>\n",
       "      <th>time_observed_at</th>\n",
       "      <th>time_zone</th>\n",
       "      <th>user_id</th>\n",
       "      <th>user_login</th>\n",
       "      <th>user_name</th>\n",
       "      <th>created_at</th>\n",
       "      <th>updated_at</th>\n",
       "      <th>...</th>\n",
       "      <th>geoprivacy</th>\n",
       "      <th>taxon_geoprivacy</th>\n",
       "      <th>coordinates_obscured</th>\n",
       "      <th>positioning_method</th>\n",
       "      <th>positioning_device</th>\n",
       "      <th>species_guess</th>\n",
       "      <th>scientific_name</th>\n",
       "      <th>common_name</th>\n",
       "      <th>iconic_taxon_name</th>\n",
       "      <th>taxon_id</th>\n",
       "    </tr>\n",
       "  </thead>\n",
       "  <tbody>\n",
       "    <tr>\n",
       "      <th>0</th>\n",
       "      <td>47</td>\n",
       "      <td>March 21, 2008</td>\n",
       "      <td>2008-03-21</td>\n",
       "      <td>NaN</td>\n",
       "      <td>Central Time (US &amp; Canada)</td>\n",
       "      <td>7</td>\n",
       "      <td>lisa_and_robb</td>\n",
       "      <td>NaN</td>\n",
       "      <td>2008-03-25 11:21:54 UTC</td>\n",
       "      <td>2023-03-12 05:50:05 UTC</td>\n",
       "      <td>...</td>\n",
       "      <td>NaN</td>\n",
       "      <td>open</td>\n",
       "      <td>False</td>\n",
       "      <td>NaN</td>\n",
       "      <td>NaN</td>\n",
       "      <td>Texas Bluebonnet</td>\n",
       "      <td>Lupinus texensis</td>\n",
       "      <td>Texas bluebonnet</td>\n",
       "      <td>Plantae</td>\n",
       "      <td>49564.0</td>\n",
       "    </tr>\n",
       "    <tr>\n",
       "      <th>1</th>\n",
       "      <td>8009</td>\n",
       "      <td>2010-07-20</td>\n",
       "      <td>2010-07-20</td>\n",
       "      <td>NaN</td>\n",
       "      <td>Mountain Time (US &amp; Canada)</td>\n",
       "      <td>453</td>\n",
       "      <td>leighannemcc</td>\n",
       "      <td>NaN</td>\n",
       "      <td>2010-08-06 19:30:15 UTC</td>\n",
       "      <td>2020-06-04 22:16:05 UTC</td>\n",
       "      <td>...</td>\n",
       "      <td>NaN</td>\n",
       "      <td>NaN</td>\n",
       "      <td>False</td>\n",
       "      <td>NaN</td>\n",
       "      <td>NaN</td>\n",
       "      <td>Solanum rostratum</td>\n",
       "      <td>Solanum rostratum</td>\n",
       "      <td>buffalo-bur</td>\n",
       "      <td>Plantae</td>\n",
       "      <td>62642.0</td>\n",
       "    </tr>\n",
       "    <tr>\n",
       "      <th>2</th>\n",
       "      <td>32167</td>\n",
       "      <td>September 22, 2011 10:58</td>\n",
       "      <td>2011-09-22</td>\n",
       "      <td>2011-09-22 14:58:00 UTC</td>\n",
       "      <td>Eastern Time (US &amp; Canada)</td>\n",
       "      <td>2370</td>\n",
       "      <td>ctracey</td>\n",
       "      <td>Christopher Tracey</td>\n",
       "      <td>2011-09-23 03:14:29 UTC</td>\n",
       "      <td>2022-05-17 18:47:54 UTC</td>\n",
       "      <td>...</td>\n",
       "      <td>NaN</td>\n",
       "      <td>NaN</td>\n",
       "      <td>False</td>\n",
       "      <td>NaN</td>\n",
       "      <td>NaN</td>\n",
       "      <td>Fendler's sandmat</td>\n",
       "      <td>Euphorbia fendleri</td>\n",
       "      <td>Fendler's Sandmat</td>\n",
       "      <td>Plantae</td>\n",
       "      <td>148407.0</td>\n",
       "    </tr>\n",
       "    <tr>\n",
       "      <th>3</th>\n",
       "      <td>35715</td>\n",
       "      <td>October 14, 2011 2:17:52 PM CDT</td>\n",
       "      <td>2011-10-14</td>\n",
       "      <td>2011-10-14 19:17:52 UTC</td>\n",
       "      <td>Central Time (US &amp; Canada)</td>\n",
       "      <td>2281</td>\n",
       "      <td>cullen</td>\n",
       "      <td>Cullen Hanks</td>\n",
       "      <td>2011-10-15 04:38:10 UTC</td>\n",
       "      <td>2022-05-12 15:24:40 UTC</td>\n",
       "      <td>...</td>\n",
       "      <td>NaN</td>\n",
       "      <td>NaN</td>\n",
       "      <td>False</td>\n",
       "      <td>NaN</td>\n",
       "      <td>NaN</td>\n",
       "      <td>Spigelia texana</td>\n",
       "      <td>Spigelia texana</td>\n",
       "      <td>Texas pinkroot</td>\n",
       "      <td>Plantae</td>\n",
       "      <td>520535.0</td>\n",
       "    </tr>\n",
       "    <tr>\n",
       "      <th>4</th>\n",
       "      <td>38015</td>\n",
       "      <td>March 13, 2011 15:36</td>\n",
       "      <td>2011-03-13</td>\n",
       "      <td>2011-03-13 20:36:00 UTC</td>\n",
       "      <td>Central Time (US &amp; Canada)</td>\n",
       "      <td>2670</td>\n",
       "      <td>atxnaturalist</td>\n",
       "      <td>Kari Gaukler</td>\n",
       "      <td>2011-11-03 03:55:14 UTC</td>\n",
       "      <td>2020-11-22 14:54:48 UTC</td>\n",
       "      <td>...</td>\n",
       "      <td>NaN</td>\n",
       "      <td>NaN</td>\n",
       "      <td>False</td>\n",
       "      <td>NaN</td>\n",
       "      <td>NaN</td>\n",
       "      <td>Texas baby blue eyes</td>\n",
       "      <td>Nemophila phacelioides</td>\n",
       "      <td>Texas baby blue eyes</td>\n",
       "      <td>Plantae</td>\n",
       "      <td>120550.0</td>\n",
       "    </tr>\n",
       "  </tbody>\n",
       "</table>\n",
       "<p>5 rows × 39 columns</p>\n",
       "</div>"
      ],
      "text/plain": [
       "      id               observed_on_string observed_on  \\\n",
       "0     47                   March 21, 2008  2008-03-21   \n",
       "1   8009                       2010-07-20  2010-07-20   \n",
       "2  32167         September 22, 2011 10:58  2011-09-22   \n",
       "3  35715  October 14, 2011 2:17:52 PM CDT  2011-10-14   \n",
       "4  38015             March 13, 2011 15:36  2011-03-13   \n",
       "\n",
       "          time_observed_at                    time_zone user_id  \\\n",
       "0                      NaN   Central Time (US & Canada)       7   \n",
       "1                      NaN  Mountain Time (US & Canada)     453   \n",
       "2  2011-09-22 14:58:00 UTC   Eastern Time (US & Canada)    2370   \n",
       "3  2011-10-14 19:17:52 UTC   Central Time (US & Canada)    2281   \n",
       "4  2011-03-13 20:36:00 UTC   Central Time (US & Canada)    2670   \n",
       "\n",
       "      user_login           user_name               created_at  \\\n",
       "0  lisa_and_robb                 NaN  2008-03-25 11:21:54 UTC   \n",
       "1   leighannemcc                 NaN  2010-08-06 19:30:15 UTC   \n",
       "2        ctracey  Christopher Tracey  2011-09-23 03:14:29 UTC   \n",
       "3         cullen        Cullen Hanks  2011-10-15 04:38:10 UTC   \n",
       "4  atxnaturalist        Kari Gaukler  2011-11-03 03:55:14 UTC   \n",
       "\n",
       "                updated_at  ... geoprivacy taxon_geoprivacy  \\\n",
       "0  2023-03-12 05:50:05 UTC  ...        NaN             open   \n",
       "1  2020-06-04 22:16:05 UTC  ...        NaN              NaN   \n",
       "2  2022-05-17 18:47:54 UTC  ...        NaN              NaN   \n",
       "3  2022-05-12 15:24:40 UTC  ...        NaN              NaN   \n",
       "4  2020-11-22 14:54:48 UTC  ...        NaN              NaN   \n",
       "\n",
       "  coordinates_obscured positioning_method positioning_device  \\\n",
       "0                False                NaN                NaN   \n",
       "1                False                NaN                NaN   \n",
       "2                False                NaN                NaN   \n",
       "3                False                NaN                NaN   \n",
       "4                False                NaN                NaN   \n",
       "\n",
       "          species_guess         scientific_name           common_name  \\\n",
       "0      Texas Bluebonnet        Lupinus texensis      Texas bluebonnet   \n",
       "1     Solanum rostratum       Solanum rostratum           buffalo-bur   \n",
       "2     Fendler's sandmat      Euphorbia fendleri     Fendler's Sandmat   \n",
       "3       Spigelia texana         Spigelia texana        Texas pinkroot   \n",
       "4  Texas baby blue eyes  Nemophila phacelioides  Texas baby blue eyes   \n",
       "\n",
       "  iconic_taxon_name  taxon_id  \n",
       "0           Plantae   49564.0  \n",
       "1           Plantae   62642.0  \n",
       "2           Plantae  148407.0  \n",
       "3           Plantae  520535.0  \n",
       "4           Plantae  120550.0  \n",
       "\n",
       "[5 rows x 39 columns]"
      ]
     },
     "execution_count": 2,
     "metadata": {},
     "output_type": "execute_result"
    }
   ],
   "source": [
    "# load in the data\n",
    "### these are raw observations ###\n",
    "inat_data = pd.read_csv('../data/combined_raw_inaturalist_export.csv')\n",
    "inat_data.head()"
   ]
  },
  {
   "cell_type": "markdown",
   "id": "38997156-97d5-41a8-bec9-288285ab4dcc",
   "metadata": {},
   "source": [
    "## Filtering the dataset"
   ]
  },
  {
   "cell_type": "markdown",
   "id": "06158176-1d55-477a-a6ca-b8b16b88c52c",
   "metadata": {},
   "source": [
    "### Hybrids"
   ]
  },
  {
   "cell_type": "code",
   "execution_count": 3,
   "id": "8db60ef8-ccee-43db-bc8a-4e60fbb9b0e9",
   "metadata": {},
   "outputs": [
    {
     "name": "stdout",
     "output_type": "stream",
     "text": [
      "40\n"
     ]
    }
   ],
   "source": [
    "# screen out all hybrid names (with the 'x' character)\n",
    "hybrid_mask = ~np.array(['x' in str(i).split() for i in inat_data.scientific_name])\n",
    "print(np.sum(~hybrid_mask))\n",
    "inat_data = inat_data[hybrid_mask]"
   ]
  },
  {
   "cell_type": "code",
   "execution_count": 4,
   "id": "b1ee0110-ef2f-4425-a7e4-811282182a50",
   "metadata": {},
   "outputs": [
    {
     "name": "stdout",
     "output_type": "stream",
     "text": [
      "2992\n"
     ]
    }
   ],
   "source": [
    "# there is a special character for x that we also have to screen out!\n",
    "hybrid_mask = ~np.array(['×' in str(i).split() for i in inat_data.scientific_name])\n",
    "print(np.sum(~hybrid_mask))\n",
    "inat_data = inat_data[hybrid_mask]"
   ]
  },
  {
   "cell_type": "markdown",
   "id": "b5a17543-a5dd-4631-881e-1e3cd1e34ebf",
   "metadata": {},
   "source": [
    "### Single words"
   ]
  },
  {
   "cell_type": "code",
   "execution_count": 5,
   "id": "66e5360e-9ee1-4667-be0e-33d07cbd4602",
   "metadata": {},
   "outputs": [
    {
     "name": "stdout",
     "output_type": "stream",
     "text": [
      "2805\n"
     ]
    }
   ],
   "source": [
    "# screen out all scientific names that are one word\n",
    "single_names_mask = ~np.array([len(str(i).split())==1 for i in inat_data.scientific_name])\n",
    "print(np.sum(~single_names_mask))\n",
    "inat_data = inat_data[single_names_mask]"
   ]
  },
  {
   "cell_type": "markdown",
   "id": "f4719137-1391-4c18-bf46-bc9b91736177",
   "metadata": {},
   "source": [
    "### Add binomial name column to ignore subspecific ID"
   ]
  },
  {
   "cell_type": "code",
   "execution_count": 6,
   "id": "d5013f03-c0ce-41af-b43e-bfa6862dd38e",
   "metadata": {},
   "outputs": [],
   "source": [
    "# make a column that just keeps the binomial nomenclature\n",
    "inat_data['binomial'] = [' '.join(str(i).split()[:2]) for i in inat_data.scientific_name]"
   ]
  },
  {
   "cell_type": "markdown",
   "id": "751ab1ae-7807-40c5-9211-8d0032ca4994",
   "metadata": {},
   "source": [
    "# Goal:"
   ]
  },
  {
   "cell_type": "markdown",
   "id": "6b827bb1-5730-44dc-8e8f-cafb0dade04a",
   "metadata": {},
   "source": [
    "## For this project I'm interested in **FOR EACH SPECIES** in the dataset, getting the color of that species. To do this I will make a list of all of the unique species, and I will access a single \"default\" photo for each species from iNaturalist. This is the photo from which I will extract flower color."
   ]
  },
  {
   "cell_type": "markdown",
   "id": "3c3df357-9ceb-49e2-bbbc-2b4573358ec6",
   "metadata": {},
   "source": [
    "# 1) Get the unique species from the DataFrame based on the `binomial` column"
   ]
  },
  {
   "cell_type": "code",
   "execution_count": 7,
   "id": "87a08d96-c81b-45ad-b01a-e97dab1835ba",
   "metadata": {},
   "outputs": [
    {
     "data": {
      "text/plain": [
       "13378"
      ]
     },
     "execution_count": 7,
     "metadata": {},
     "output_type": "execute_result"
    }
   ],
   "source": [
    "# what are the unique species in the dataset\n",
    "unique_species = np.unique(inat_data.binomial)\n",
    "len(unique_species)"
   ]
  },
  {
   "cell_type": "code",
   "execution_count": 8,
   "id": "8c16845d-e4a4-48a5-ae00-e6fb0d0ad68f",
   "metadata": {},
   "outputs": [
    {
     "data": {
      "text/plain": [
       "array(['Abdra brachycarpa', 'Abelmoschus esculentus', 'Abronia ameliae',\n",
       "       'Abronia ammophila', 'Abronia angustifolia', 'Abronia elliptica',\n",
       "       'Abronia fragrans', 'Abronia glabrifolia', 'Abronia gracilis',\n",
       "       'Abronia latifolia'], dtype=object)"
      ]
     },
     "execution_count": 8,
     "metadata": {},
     "output_type": "execute_result"
    }
   ],
   "source": [
    "unique_species[:10]"
   ]
  },
  {
   "cell_type": "markdown",
   "id": "f61a8914-e9f5-4d5d-bdc5-2e22d671f14f",
   "metadata": {},
   "source": [
    "### Sort by frequency (arbitrary choice on my part)"
   ]
  },
  {
   "cell_type": "code",
   "execution_count": 9,
   "id": "6fddcf2e-991c-4ace-b92e-f1e3fc2fe49c",
   "metadata": {
    "tags": []
   },
   "outputs": [],
   "source": [
    "unique_species, counts = np.unique(inat_data.binomial, return_counts=True)"
   ]
  },
  {
   "cell_type": "code",
   "execution_count": 10,
   "id": "ac2169dd-16d9-43ad-8248-e8e2c94b12b9",
   "metadata": {},
   "outputs": [],
   "source": [
    "sorted_unique_species = unique_species[np.argsort(counts)[::-1]]"
   ]
  },
  {
   "cell_type": "code",
   "execution_count": 11,
   "id": "cd8219db-f581-40d8-a161-4c0d4925278e",
   "metadata": {},
   "outputs": [
    {
     "data": {
      "text/plain": [
       "array(['Trillium grandiflorum', 'Dipterostemon capitatus',\n",
       "       'Trillium erectum', 'Sanguinaria canadensis', 'Trillium ovatum',\n",
       "       'Ficaria verna', 'Claytonia virginica', 'Erodium cicutarium',\n",
       "       'Cypripedium acaule', 'Lamium purpureum'], dtype=object)"
      ]
     },
     "execution_count": 11,
     "metadata": {},
     "output_type": "execute_result"
    }
   ],
   "source": [
    "sorted_unique_species[:10]"
   ]
  },
  {
   "cell_type": "markdown",
   "id": "23db8901-6d05-492d-806b-0d1437e42689",
   "metadata": {},
   "source": [
    "## Example of getting a default photo for an arbitrary taxon"
   ]
  },
  {
   "cell_type": "code",
   "execution_count": 12,
   "id": "379729a2-9974-482b-948d-e5ecf448fce1",
   "metadata": {},
   "outputs": [],
   "source": [
    "import pyinaturalist"
   ]
  },
  {
   "cell_type": "code",
   "execution_count": 13,
   "id": "f376d892-39f9-4038-8be6-4a08611a9209",
   "metadata": {},
   "outputs": [],
   "source": [
    "res = pyinaturalist.get_taxa('Monarda fistulosa')"
   ]
  },
  {
   "cell_type": "code",
   "execution_count": 14,
   "id": "96827eed-4dcd-4964-8a89-caa6d649d540",
   "metadata": {},
   "outputs": [
    {
     "data": {
      "text/html": [
       "<pre style=\"white-space:pre;overflow-x:auto;line-height:normal;font-family:Menlo,'DejaVu Sans Mono',consolas,'Courier New',monospace\"></pre>\n"
      ],
      "text/plain": []
     },
     "metadata": {},
     "output_type": "display_data"
    },
    {
     "data": {
      "text/plain": [
       "\u001b[32m'https://inaturalist-open-data.s3.amazonaws.com/photos/47763/medium.jpg'\u001b[0m"
      ]
     },
     "execution_count": 14,
     "metadata": {},
     "output_type": "execute_result"
    }
   ],
   "source": [
    "total_results = res['total_results']\n",
    "page = res['page']\n",
    "per_page = res['per_page']\n",
    "results = res['results']\n",
    "\n",
    "photo = results[0]['default_photo']['medium_url']\n",
    "photo"
   ]
  },
  {
   "cell_type": "markdown",
   "id": "6c369723-bec1-4326-92d5-0bb9e133228f",
   "metadata": {},
   "source": [
    "# 2) Get the list of urls to photos (in my case, one for each species)"
   ]
  },
  {
   "cell_type": "code",
   "execution_count": 15,
   "id": "a5922004-00c2-4526-877b-98596d3a2183",
   "metadata": {},
   "outputs": [],
   "source": [
    "# change the range here\n",
    "startidx = 0\n",
    "stopidx = 15\n",
    "\n",
    "# get the taxa\n",
    "urls = []\n",
    "for taxon in sorted_unique_species[startidx:stopidx]: # for each taxon name in the range of idxs...\n",
    "    res = pyinaturalist.get_taxa(taxon) # pull up the taxon\n",
    "    total_results = res['total_results'] # extract the results\n",
    "    page = res['page'] # dig down through the layers...\n",
    "    per_page = res['per_page']\n",
    "    results = res['results']\n",
    "\n",
    "    if not len(results):\n",
    "        photo=np.nan\n",
    "    else:\n",
    "        if results[0]['default_photo']:\n",
    "            photo = results[0]['default_photo']['medium_url'] # get the url of the representative photo\n",
    "        else:\n",
    "            photo = np.nan\n",
    "    urls.append(photo)\n",
    "    time.sleep(0.5)"
   ]
  },
  {
   "cell_type": "markdown",
   "id": "31dd1a9b-581f-479e-993c-da9c4b05dd89",
   "metadata": {},
   "source": [
    "### now match the url up to the species name in a dataframe"
   ]
  },
  {
   "cell_type": "code",
   "execution_count": 16,
   "id": "8abe2d82-6d5e-4066-93d1-6ab33550f4fa",
   "metadata": {},
   "outputs": [
    {
     "data": {
      "text/html": [
       "<pre style=\"white-space:pre;overflow-x:auto;line-height:normal;font-family:Menlo,'DejaVu Sans Mono',consolas,'Courier New',monospace\"></pre>\n"
      ],
      "text/plain": []
     },
     "metadata": {},
     "output_type": "display_data"
    },
    {
     "data": {
      "text/html": [
       "<div>\n",
       "<style scoped>\n",
       "    .dataframe tbody tr th:only-of-type {\n",
       "        vertical-align: middle;\n",
       "    }\n",
       "\n",
       "    .dataframe tbody tr th {\n",
       "        vertical-align: top;\n",
       "    }\n",
       "\n",
       "    .dataframe thead th {\n",
       "        text-align: right;\n",
       "    }\n",
       "</style>\n",
       "<table border=\"1\" class=\"dataframe\">\n",
       "  <thead>\n",
       "    <tr style=\"text-align: right;\">\n",
       "      <th></th>\n",
       "      <th>binomial</th>\n",
       "      <th>photo_url</th>\n",
       "    </tr>\n",
       "  </thead>\n",
       "  <tbody>\n",
       "    <tr>\n",
       "      <th>0</th>\n",
       "      <td>Trillium grandiflorum</td>\n",
       "      <td>https://inaturalist-open-data.s3.amazonaws.com...</td>\n",
       "    </tr>\n",
       "    <tr>\n",
       "      <th>1</th>\n",
       "      <td>Dipterostemon capitatus</td>\n",
       "      <td>https://inaturalist-open-data.s3.amazonaws.com...</td>\n",
       "    </tr>\n",
       "    <tr>\n",
       "      <th>2</th>\n",
       "      <td>Trillium erectum</td>\n",
       "      <td>https://inaturalist-open-data.s3.amazonaws.com...</td>\n",
       "    </tr>\n",
       "    <tr>\n",
       "      <th>3</th>\n",
       "      <td>Sanguinaria canadensis</td>\n",
       "      <td>https://inaturalist-open-data.s3.amazonaws.com...</td>\n",
       "    </tr>\n",
       "    <tr>\n",
       "      <th>4</th>\n",
       "      <td>Trillium ovatum</td>\n",
       "      <td>https://inaturalist-open-data.s3.amazonaws.com...</td>\n",
       "    </tr>\n",
       "    <tr>\n",
       "      <th>5</th>\n",
       "      <td>Ficaria verna</td>\n",
       "      <td>https://inaturalist-open-data.s3.amazonaws.com...</td>\n",
       "    </tr>\n",
       "    <tr>\n",
       "      <th>6</th>\n",
       "      <td>Claytonia virginica</td>\n",
       "      <td>https://static.inaturalist.org/photos/18391000...</td>\n",
       "    </tr>\n",
       "    <tr>\n",
       "      <th>7</th>\n",
       "      <td>Erodium cicutarium</td>\n",
       "      <td>https://inaturalist-open-data.s3.amazonaws.com...</td>\n",
       "    </tr>\n",
       "    <tr>\n",
       "      <th>8</th>\n",
       "      <td>Cypripedium acaule</td>\n",
       "      <td>https://inaturalist-open-data.s3.amazonaws.com...</td>\n",
       "    </tr>\n",
       "    <tr>\n",
       "      <th>9</th>\n",
       "      <td>Lamium purpureum</td>\n",
       "      <td>https://inaturalist-open-data.s3.amazonaws.com...</td>\n",
       "    </tr>\n",
       "    <tr>\n",
       "      <th>10</th>\n",
       "      <td>Houstonia caerulea</td>\n",
       "      <td>https://inaturalist-open-data.s3.amazonaws.com...</td>\n",
       "    </tr>\n",
       "    <tr>\n",
       "      <th>11</th>\n",
       "      <td>Impatiens capensis</td>\n",
       "      <td>https://inaturalist-open-data.s3.amazonaws.com...</td>\n",
       "    </tr>\n",
       "    <tr>\n",
       "      <th>12</th>\n",
       "      <td>Erythronium americanum</td>\n",
       "      <td>https://static.inaturalist.org/photos/790349/m...</td>\n",
       "    </tr>\n",
       "    <tr>\n",
       "      <th>13</th>\n",
       "      <td>Arisaema triphyllum</td>\n",
       "      <td>https://inaturalist-open-data.s3.amazonaws.com...</td>\n",
       "    </tr>\n",
       "    <tr>\n",
       "      <th>14</th>\n",
       "      <td>Dicentra cucullaria</td>\n",
       "      <td>https://inaturalist-open-data.s3.amazonaws.com...</td>\n",
       "    </tr>\n",
       "  </tbody>\n",
       "</table>\n",
       "</div>"
      ],
      "text/plain": [
       "\n",
       "                   binomial                                          photo_url\n",
       "\u001b[1;36m0\u001b[0m     Trillium grandiflorum  \u001b[4;94mhttps://inaturalist-open-data.s3.amazonaws.com...\u001b[0m\n",
       "\u001b[1;36m1\u001b[0m   Dipterostemon capitatus  \u001b[4;94mhttps://inaturalist-open-data.s3.amazonaws.com...\u001b[0m\n",
       "\u001b[1;36m2\u001b[0m          Trillium erectum  \u001b[4;94mhttps://inaturalist-open-data.s3.amazonaws.com...\u001b[0m\n",
       "\u001b[1;36m3\u001b[0m    Sanguinaria canadensis  \u001b[4;94mhttps://inaturalist-open-data.s3.amazonaws.com...\u001b[0m\n",
       "\u001b[1;36m4\u001b[0m           Trillium ovatum  \u001b[4;94mhttps://inaturalist-open-data.s3.amazonaws.com...\u001b[0m\n",
       "\u001b[1;36m5\u001b[0m             Ficaria verna  \u001b[4;94mhttps://inaturalist-open-data.s3.amazonaws.com...\u001b[0m\n",
       "\u001b[1;36m6\u001b[0m       Claytonia virginica  \u001b[4;94mhttps://static.inaturalist.org/photos/18391000...\u001b[0m\n",
       "\u001b[1;36m7\u001b[0m        Erodium cicutarium  \u001b[4;94mhttps://inaturalist-open-data.s3.amazonaws.com...\u001b[0m\n",
       "\u001b[1;36m8\u001b[0m        Cypripedium acaule  \u001b[4;94mhttps://inaturalist-open-data.s3.amazonaws.com...\u001b[0m\n",
       "\u001b[1;36m9\u001b[0m          Lamium purpureum  \u001b[4;94mhttps://inaturalist-open-data.s3.amazonaws.com...\u001b[0m\n",
       "\u001b[1;36m10\u001b[0m       Houstonia caerulea  \u001b[4;94mhttps://inaturalist-open-data.s3.amazonaws.com...\u001b[0m\n",
       "\u001b[1;36m11\u001b[0m       Impatiens capensis  \u001b[4;94mhttps://inaturalist-open-data.s3.amazonaws.com...\u001b[0m\n",
       "\u001b[1;36m12\u001b[0m   Erythronium americanum  \u001b[4;94mhttps://static.inaturalist.org/photos/790349/m...\u001b[0m\n",
       "\u001b[1;36m13\u001b[0m      Arisaema triphyllum  \u001b[4;94mhttps://inaturalist-open-data.s3.amazonaws.com...\u001b[0m\n",
       "\u001b[1;36m14\u001b[0m      Dicentra cucullaria  \u001b[4;94mhttps://inaturalist-open-data.s3.amazonaws.com...\u001b[0m"
      ]
     },
     "execution_count": 16,
     "metadata": {},
     "output_type": "execute_result"
    }
   ],
   "source": [
    "inat_taxon_df = pd.DataFrame([sorted_unique_species[startidx:stopidx],urls],index=['binomial','photo_url']).T\n",
    "inat_taxon_df"
   ]
  },
  {
   "cell_type": "code",
   "execution_count": 17,
   "id": "4f45b278-3911-49a2-8c78-554f633772fe",
   "metadata": {},
   "outputs": [
    {
     "data": {
      "text/html": [
       "<pre style=\"white-space:pre;overflow-x:auto;line-height:normal;font-family:Menlo,'DejaVu Sans Mono',consolas,'Courier New',monospace\"></pre>\n"
      ],
      "text/plain": []
     },
     "metadata": {},
     "output_type": "display_data"
    },
    {
     "data": {
      "text/html": [
       "<div>\n",
       "<style scoped>\n",
       "    .dataframe tbody tr th:only-of-type {\n",
       "        vertical-align: middle;\n",
       "    }\n",
       "\n",
       "    .dataframe tbody tr th {\n",
       "        vertical-align: top;\n",
       "    }\n",
       "\n",
       "    .dataframe thead th {\n",
       "        text-align: right;\n",
       "    }\n",
       "</style>\n",
       "<table border=\"1\" class=\"dataframe\">\n",
       "  <thead>\n",
       "    <tr style=\"text-align: right;\">\n",
       "      <th></th>\n",
       "      <th>binomial</th>\n",
       "      <th>photo_url</th>\n",
       "    </tr>\n",
       "  </thead>\n",
       "  <tbody>\n",
       "    <tr>\n",
       "      <th>0</th>\n",
       "      <td>Trillium grandiflorum</td>\n",
       "      <td>https://inaturalist-open-data.s3.amazonaws.com...</td>\n",
       "    </tr>\n",
       "    <tr>\n",
       "      <th>1</th>\n",
       "      <td>Dipterostemon capitatus</td>\n",
       "      <td>https://inaturalist-open-data.s3.amazonaws.com...</td>\n",
       "    </tr>\n",
       "    <tr>\n",
       "      <th>2</th>\n",
       "      <td>Trillium erectum</td>\n",
       "      <td>https://inaturalist-open-data.s3.amazonaws.com...</td>\n",
       "    </tr>\n",
       "    <tr>\n",
       "      <th>3</th>\n",
       "      <td>Sanguinaria canadensis</td>\n",
       "      <td>https://inaturalist-open-data.s3.amazonaws.com...</td>\n",
       "    </tr>\n",
       "    <tr>\n",
       "      <th>4</th>\n",
       "      <td>Trillium ovatum</td>\n",
       "      <td>https://inaturalist-open-data.s3.amazonaws.com...</td>\n",
       "    </tr>\n",
       "    <tr>\n",
       "      <th>5</th>\n",
       "      <td>Ficaria verna</td>\n",
       "      <td>https://inaturalist-open-data.s3.amazonaws.com...</td>\n",
       "    </tr>\n",
       "    <tr>\n",
       "      <th>6</th>\n",
       "      <td>Claytonia virginica</td>\n",
       "      <td>https://static.inaturalist.org/photos/18391000...</td>\n",
       "    </tr>\n",
       "    <tr>\n",
       "      <th>7</th>\n",
       "      <td>Erodium cicutarium</td>\n",
       "      <td>https://inaturalist-open-data.s3.amazonaws.com...</td>\n",
       "    </tr>\n",
       "    <tr>\n",
       "      <th>8</th>\n",
       "      <td>Cypripedium acaule</td>\n",
       "      <td>https://inaturalist-open-data.s3.amazonaws.com...</td>\n",
       "    </tr>\n",
       "    <tr>\n",
       "      <th>9</th>\n",
       "      <td>Lamium purpureum</td>\n",
       "      <td>https://inaturalist-open-data.s3.amazonaws.com...</td>\n",
       "    </tr>\n",
       "    <tr>\n",
       "      <th>10</th>\n",
       "      <td>Houstonia caerulea</td>\n",
       "      <td>https://inaturalist-open-data.s3.amazonaws.com...</td>\n",
       "    </tr>\n",
       "    <tr>\n",
       "      <th>11</th>\n",
       "      <td>Impatiens capensis</td>\n",
       "      <td>https://inaturalist-open-data.s3.amazonaws.com...</td>\n",
       "    </tr>\n",
       "    <tr>\n",
       "      <th>12</th>\n",
       "      <td>Erythronium americanum</td>\n",
       "      <td>https://static.inaturalist.org/photos/790349/m...</td>\n",
       "    </tr>\n",
       "    <tr>\n",
       "      <th>13</th>\n",
       "      <td>Arisaema triphyllum</td>\n",
       "      <td>https://inaturalist-open-data.s3.amazonaws.com...</td>\n",
       "    </tr>\n",
       "    <tr>\n",
       "      <th>14</th>\n",
       "      <td>Dicentra cucullaria</td>\n",
       "      <td>https://inaturalist-open-data.s3.amazonaws.com...</td>\n",
       "    </tr>\n",
       "  </tbody>\n",
       "</table>\n",
       "</div>"
      ],
      "text/plain": [
       "\n",
       "                   binomial                                          photo_url\n",
       "\u001b[1;36m0\u001b[0m     Trillium grandiflorum  \u001b[4;94mhttps://inaturalist-open-data.s3.amazonaws.com...\u001b[0m\n",
       "\u001b[1;36m1\u001b[0m   Dipterostemon capitatus  \u001b[4;94mhttps://inaturalist-open-data.s3.amazonaws.com...\u001b[0m\n",
       "\u001b[1;36m2\u001b[0m          Trillium erectum  \u001b[4;94mhttps://inaturalist-open-data.s3.amazonaws.com...\u001b[0m\n",
       "\u001b[1;36m3\u001b[0m    Sanguinaria canadensis  \u001b[4;94mhttps://inaturalist-open-data.s3.amazonaws.com...\u001b[0m\n",
       "\u001b[1;36m4\u001b[0m           Trillium ovatum  \u001b[4;94mhttps://inaturalist-open-data.s3.amazonaws.com...\u001b[0m\n",
       "\u001b[1;36m5\u001b[0m             Ficaria verna  \u001b[4;94mhttps://inaturalist-open-data.s3.amazonaws.com...\u001b[0m\n",
       "\u001b[1;36m6\u001b[0m       Claytonia virginica  \u001b[4;94mhttps://static.inaturalist.org/photos/18391000...\u001b[0m\n",
       "\u001b[1;36m7\u001b[0m        Erodium cicutarium  \u001b[4;94mhttps://inaturalist-open-data.s3.amazonaws.com...\u001b[0m\n",
       "\u001b[1;36m8\u001b[0m        Cypripedium acaule  \u001b[4;94mhttps://inaturalist-open-data.s3.amazonaws.com...\u001b[0m\n",
       "\u001b[1;36m9\u001b[0m          Lamium purpureum  \u001b[4;94mhttps://inaturalist-open-data.s3.amazonaws.com...\u001b[0m\n",
       "\u001b[1;36m10\u001b[0m       Houstonia caerulea  \u001b[4;94mhttps://inaturalist-open-data.s3.amazonaws.com...\u001b[0m\n",
       "\u001b[1;36m11\u001b[0m       Impatiens capensis  \u001b[4;94mhttps://inaturalist-open-data.s3.amazonaws.com...\u001b[0m\n",
       "\u001b[1;36m12\u001b[0m   Erythronium americanum  \u001b[4;94mhttps://static.inaturalist.org/photos/790349/m...\u001b[0m\n",
       "\u001b[1;36m13\u001b[0m      Arisaema triphyllum  \u001b[4;94mhttps://inaturalist-open-data.s3.amazonaws.com...\u001b[0m\n",
       "\u001b[1;36m14\u001b[0m      Dicentra cucullaria  \u001b[4;94mhttps://inaturalist-open-data.s3.amazonaws.com...\u001b[0m"
      ]
     },
     "execution_count": 17,
     "metadata": {},
     "output_type": "execute_result"
    }
   ],
   "source": [
    "# get rid of the one that has no photo url (if any)\n",
    "inat_taxon_df = inat_taxon_df[inat_taxon_df['photo_url'].notna()]\n",
    "inat_taxon_df"
   ]
  },
  {
   "cell_type": "markdown",
   "id": "d8781384-84ff-4430-bad2-d951b9c611e1",
   "metadata": {},
   "source": [
    "# 3) Feed each picture link to GPT and get the flower color results"
   ]
  },
  {
   "cell_type": "code",
   "execution_count": 18,
   "id": "bdbfc8aa-f394-419a-8ded-18461ef519dd",
   "metadata": {},
   "outputs": [
    {
     "name": "stdout",
     "output_type": "stream",
     "text": [
      "0\n"
     ]
    }
   ],
   "source": [
    "flower_present_list = []\n",
    "color_list = []\n",
    "conf_list = []\n",
    "for idx in range(len(inat_taxon_df.photo_url)):\n",
    "    # asking GPT the question\n",
    "    response=client.chat.completions.create(\n",
    "        model=\"gpt-4-vision-preview\",\n",
    "        messages=[\n",
    "            {\n",
    "                \"role\": \"user\",\n",
    "                \"content\": [\n",
    "                    {\"type\": \"text\", \"text\": \"Please adhere to very specific formatting in your response: \\\n",
    "                    three words separated onto three lines (one word per line). The first line should indicate \\\n",
    "                    'YES' or 'NO' to answer whether there is a flower present. The second line should be one \\\n",
    "                    word from the following list, to best describe the flower color in the photo: ['BLUE', 'BROWN', \\\n",
    "                    'GREEN', 'ORANGE', 'PINK', 'PURPLE', 'RED', 'MAROON', 'WHITE', 'YELLOW','UNKNOWN','NAN']. The \\\n",
    "                    flowers might not match these categories perfectly. Do the best you can. If in doubt, please \\\n",
    "                    be conservative and choose 'unknown'. The third line should indicate your assessment of the \\\n",
    "                    subjectivity of the answer -- it should either be LOW, MEDIUM, or HIGH, where HIGH means that \\\n",
    "                    the choice of color assignment seems highly subjective.\"},\n",
    "                    {\n",
    "                        \"type\": \"image_url\",\n",
    "                        \"image_url\": {\n",
    "                            \"url\": inat_taxon_df.photo_url.iloc[idx],\n",
    "                        },\n",
    "                    },\n",
    "                ],\n",
    "            }\n",
    "        ],\n",
    "        max_tokens=300,\n",
    "    )\n",
    "    \n",
    "    # parsing the response\n",
    "    flower_present, color, conf = response.choices[0].message.content.split()\n",
    "    \n",
    "    # saving the results\n",
    "    flower_present_list.append(flower_present)\n",
    "    color_list.append(color)\n",
    "    conf_list.append(conf)\n",
    "    \n",
    "    # wait a little while between requests (probably not necessary)\n",
    "    time.sleep(1.0)\n",
    "    \n",
    "    # print out progress (every 25 queries)\n",
    "    if not idx%25:\n",
    "        print(idx)"
   ]
  },
  {
   "cell_type": "markdown",
   "id": "7fbca651-e366-463e-9b24-0b9771ee6c42",
   "metadata": {},
   "source": [
    "### Add the columns to our dataframe"
   ]
  },
  {
   "cell_type": "code",
   "execution_count": 19,
   "id": "9c402a32-e92d-4549-8c86-1b3251c308d3",
   "metadata": {},
   "outputs": [],
   "source": [
    "inat_taxon_df['flower_present'] = flower_present_list\n",
    "inat_taxon_df['subjectivity'] = conf_list\n",
    "inat_taxon_df['gpt_color'] = color_list"
   ]
  },
  {
   "cell_type": "code",
   "execution_count": 20,
   "id": "1f42bf4f-4e64-4a63-a0bd-79491cb1ff34",
   "metadata": {},
   "outputs": [
    {
     "data": {
      "text/html": [
       "<pre style=\"white-space:pre;overflow-x:auto;line-height:normal;font-family:Menlo,'DejaVu Sans Mono',consolas,'Courier New',monospace\"></pre>\n"
      ],
      "text/plain": []
     },
     "metadata": {},
     "output_type": "display_data"
    },
    {
     "data": {
      "text/html": [
       "<div>\n",
       "<style scoped>\n",
       "    .dataframe tbody tr th:only-of-type {\n",
       "        vertical-align: middle;\n",
       "    }\n",
       "\n",
       "    .dataframe tbody tr th {\n",
       "        vertical-align: top;\n",
       "    }\n",
       "\n",
       "    .dataframe thead th {\n",
       "        text-align: right;\n",
       "    }\n",
       "</style>\n",
       "<table border=\"1\" class=\"dataframe\">\n",
       "  <thead>\n",
       "    <tr style=\"text-align: right;\">\n",
       "      <th></th>\n",
       "      <th>binomial</th>\n",
       "      <th>photo_url</th>\n",
       "      <th>flower_present</th>\n",
       "      <th>subjectivity</th>\n",
       "      <th>gpt_color</th>\n",
       "    </tr>\n",
       "  </thead>\n",
       "  <tbody>\n",
       "    <tr>\n",
       "      <th>0</th>\n",
       "      <td>Trillium grandiflorum</td>\n",
       "      <td>https://inaturalist-open-data.s3.amazonaws.com...</td>\n",
       "      <td>YES</td>\n",
       "      <td>LOW</td>\n",
       "      <td>WHITE</td>\n",
       "    </tr>\n",
       "    <tr>\n",
       "      <th>1</th>\n",
       "      <td>Dipterostemon capitatus</td>\n",
       "      <td>https://inaturalist-open-data.s3.amazonaws.com...</td>\n",
       "      <td>YES</td>\n",
       "      <td>LOW</td>\n",
       "      <td>PURPLE</td>\n",
       "    </tr>\n",
       "    <tr>\n",
       "      <th>2</th>\n",
       "      <td>Trillium erectum</td>\n",
       "      <td>https://inaturalist-open-data.s3.amazonaws.com...</td>\n",
       "      <td>YES</td>\n",
       "      <td>LOW</td>\n",
       "      <td>WHITE</td>\n",
       "    </tr>\n",
       "    <tr>\n",
       "      <th>3</th>\n",
       "      <td>Sanguinaria canadensis</td>\n",
       "      <td>https://inaturalist-open-data.s3.amazonaws.com...</td>\n",
       "      <td>YES</td>\n",
       "      <td>LOW</td>\n",
       "      <td>WHITE</td>\n",
       "    </tr>\n",
       "    <tr>\n",
       "      <th>4</th>\n",
       "      <td>Trillium ovatum</td>\n",
       "      <td>https://inaturalist-open-data.s3.amazonaws.com...</td>\n",
       "      <td>YES</td>\n",
       "      <td>LOW</td>\n",
       "      <td>WHITE</td>\n",
       "    </tr>\n",
       "    <tr>\n",
       "      <th>5</th>\n",
       "      <td>Ficaria verna</td>\n",
       "      <td>https://inaturalist-open-data.s3.amazonaws.com...</td>\n",
       "      <td>YES</td>\n",
       "      <td>LOW</td>\n",
       "      <td>YELLOW</td>\n",
       "    </tr>\n",
       "    <tr>\n",
       "      <th>6</th>\n",
       "      <td>Claytonia virginica</td>\n",
       "      <td>https://static.inaturalist.org/photos/18391000...</td>\n",
       "      <td>YES</td>\n",
       "      <td>LOW</td>\n",
       "      <td>PINK</td>\n",
       "    </tr>\n",
       "    <tr>\n",
       "      <th>7</th>\n",
       "      <td>Erodium cicutarium</td>\n",
       "      <td>https://inaturalist-open-data.s3.amazonaws.com...</td>\n",
       "      <td>YES</td>\n",
       "      <td>LOW</td>\n",
       "      <td>PINK</td>\n",
       "    </tr>\n",
       "    <tr>\n",
       "      <th>8</th>\n",
       "      <td>Cypripedium acaule</td>\n",
       "      <td>https://inaturalist-open-data.s3.amazonaws.com...</td>\n",
       "      <td>YES</td>\n",
       "      <td>LOW</td>\n",
       "      <td>PINK</td>\n",
       "    </tr>\n",
       "    <tr>\n",
       "      <th>9</th>\n",
       "      <td>Lamium purpureum</td>\n",
       "      <td>https://inaturalist-open-data.s3.amazonaws.com...</td>\n",
       "      <td>YES</td>\n",
       "      <td>LOW</td>\n",
       "      <td>PINK</td>\n",
       "    </tr>\n",
       "    <tr>\n",
       "      <th>10</th>\n",
       "      <td>Houstonia caerulea</td>\n",
       "      <td>https://inaturalist-open-data.s3.amazonaws.com...</td>\n",
       "      <td>YES</td>\n",
       "      <td>LOW</td>\n",
       "      <td>WHITE</td>\n",
       "    </tr>\n",
       "    <tr>\n",
       "      <th>11</th>\n",
       "      <td>Impatiens capensis</td>\n",
       "      <td>https://inaturalist-open-data.s3.amazonaws.com...</td>\n",
       "      <td>YES</td>\n",
       "      <td>LOW</td>\n",
       "      <td>YELLOW</td>\n",
       "    </tr>\n",
       "    <tr>\n",
       "      <th>12</th>\n",
       "      <td>Erythronium americanum</td>\n",
       "      <td>https://static.inaturalist.org/photos/790349/m...</td>\n",
       "      <td>YES</td>\n",
       "      <td>LOW</td>\n",
       "      <td>YELLOW</td>\n",
       "    </tr>\n",
       "    <tr>\n",
       "      <th>13</th>\n",
       "      <td>Arisaema triphyllum</td>\n",
       "      <td>https://inaturalist-open-data.s3.amazonaws.com...</td>\n",
       "      <td>YES</td>\n",
       "      <td>MEDIUM</td>\n",
       "      <td>BROWN</td>\n",
       "    </tr>\n",
       "    <tr>\n",
       "      <th>14</th>\n",
       "      <td>Dicentra cucullaria</td>\n",
       "      <td>https://inaturalist-open-data.s3.amazonaws.com...</td>\n",
       "      <td>YES</td>\n",
       "      <td>LOW</td>\n",
       "      <td>WHITE</td>\n",
       "    </tr>\n",
       "  </tbody>\n",
       "</table>\n",
       "</div>"
      ],
      "text/plain": [
       "\n",
       "                   binomial  \\\n",
       "\u001b[1;36m0\u001b[0m     Trillium grandiflorum   \n",
       "\u001b[1;36m1\u001b[0m   Dipterostemon capitatus   \n",
       "\u001b[1;36m2\u001b[0m          Trillium erectum   \n",
       "\u001b[1;36m3\u001b[0m    Sanguinaria canadensis   \n",
       "\u001b[1;36m4\u001b[0m           Trillium ovatum   \n",
       "\u001b[1;36m5\u001b[0m             Ficaria verna   \n",
       "\u001b[1;36m6\u001b[0m       Claytonia virginica   \n",
       "\u001b[1;36m7\u001b[0m        Erodium cicutarium   \n",
       "\u001b[1;36m8\u001b[0m        Cypripedium acaule   \n",
       "\u001b[1;36m9\u001b[0m          Lamium purpureum   \n",
       "\u001b[1;36m10\u001b[0m       Houstonia caerulea   \n",
       "\u001b[1;36m11\u001b[0m       Impatiens capensis   \n",
       "\u001b[1;36m12\u001b[0m   Erythronium americanum   \n",
       "\u001b[1;36m13\u001b[0m      Arisaema triphyllum   \n",
       "\u001b[1;36m14\u001b[0m      Dicentra cucullaria   \n",
       "\n",
       "                                            photo_url flower_present  \\\n",
       "\u001b[1;36m0\u001b[0m   \u001b[4;94mhttps://inaturalist-open-data.s3.amazonaws.com...\u001b[0m            YES   \n",
       "\u001b[1;36m1\u001b[0m   \u001b[4;94mhttps://inaturalist-open-data.s3.amazonaws.com...\u001b[0m            YES   \n",
       "\u001b[1;36m2\u001b[0m   \u001b[4;94mhttps://inaturalist-open-data.s3.amazonaws.com...\u001b[0m            YES   \n",
       "\u001b[1;36m3\u001b[0m   \u001b[4;94mhttps://inaturalist-open-data.s3.amazonaws.com...\u001b[0m            YES   \n",
       "\u001b[1;36m4\u001b[0m   \u001b[4;94mhttps://inaturalist-open-data.s3.amazonaws.com...\u001b[0m            YES   \n",
       "\u001b[1;36m5\u001b[0m   \u001b[4;94mhttps://inaturalist-open-data.s3.amazonaws.com...\u001b[0m            YES   \n",
       "\u001b[1;36m6\u001b[0m   \u001b[4;94mhttps://static.inaturalist.org/photos/18391000...\u001b[0m            YES   \n",
       "\u001b[1;36m7\u001b[0m   \u001b[4;94mhttps://inaturalist-open-data.s3.amazonaws.com...\u001b[0m            YES   \n",
       "\u001b[1;36m8\u001b[0m   \u001b[4;94mhttps://inaturalist-open-data.s3.amazonaws.com...\u001b[0m            YES   \n",
       "\u001b[1;36m9\u001b[0m   \u001b[4;94mhttps://inaturalist-open-data.s3.amazonaws.com...\u001b[0m            YES   \n",
       "\u001b[1;36m10\u001b[0m  \u001b[4;94mhttps://inaturalist-open-data.s3.amazonaws.com...\u001b[0m            YES   \n",
       "\u001b[1;36m11\u001b[0m  \u001b[4;94mhttps://inaturalist-open-data.s3.amazonaws.com...\u001b[0m            YES   \n",
       "\u001b[1;36m12\u001b[0m  \u001b[4;94mhttps://static.inaturalist.org/photos/790349/m...\u001b[0m            YES   \n",
       "\u001b[1;36m13\u001b[0m  \u001b[4;94mhttps://inaturalist-open-data.s3.amazonaws.com...\u001b[0m            YES   \n",
       "\u001b[1;36m14\u001b[0m  \u001b[4;94mhttps://inaturalist-open-data.s3.amazonaws.com...\u001b[0m            YES   \n",
       "\n",
       "   subjectivity gpt_color  \n",
       "\u001b[1;36m0\u001b[0m           LOW     WHITE  \n",
       "\u001b[1;36m1\u001b[0m           LOW    PURPLE  \n",
       "\u001b[1;36m2\u001b[0m           LOW     WHITE  \n",
       "\u001b[1;36m3\u001b[0m           LOW     WHITE  \n",
       "\u001b[1;36m4\u001b[0m           LOW     WHITE  \n",
       "\u001b[1;36m5\u001b[0m           LOW    YELLOW  \n",
       "\u001b[1;36m6\u001b[0m           LOW      PINK  \n",
       "\u001b[1;36m7\u001b[0m           LOW      PINK  \n",
       "\u001b[1;36m8\u001b[0m           LOW      PINK  \n",
       "\u001b[1;36m9\u001b[0m           LOW      PINK  \n",
       "\u001b[1;36m10\u001b[0m          LOW     WHITE  \n",
       "\u001b[1;36m11\u001b[0m          LOW    YELLOW  \n",
       "\u001b[1;36m12\u001b[0m          LOW    YELLOW  \n",
       "\u001b[1;36m13\u001b[0m       MEDIUM     BROWN  \n",
       "\u001b[1;36m14\u001b[0m          LOW     WHITE  "
      ]
     },
     "execution_count": 20,
     "metadata": {},
     "output_type": "execute_result"
    }
   ],
   "source": [
    "inat_taxon_df"
   ]
  },
  {
   "cell_type": "markdown",
   "id": "6d8781e7-f3b0-4b4d-83b9-eeab53e37faf",
   "metadata": {},
   "source": [
    "### Un-comment these lines to save the CSV"
   ]
  },
  {
   "cell_type": "code",
   "execution_count": 21,
   "id": "0c9e02c6-dd39-4ff4-abc1-209439c497e5",
   "metadata": {},
   "outputs": [],
   "source": [
    "# filename = f'../data/gpt_labeled_taxon_photos_{startidx}_to_{stopidx}.csv'\n",
    "# inat_taxon_df.to_csv(filename,index=False)"
   ]
  }
 ],
 "metadata": {
  "kernelspec": {
   "display_name": "Python 3 (ipykernel)",
   "language": "python",
   "name": "python3"
  },
  "language_info": {
   "codemirror_mode": {
    "name": "ipython",
    "version": 3
   },
   "file_extension": ".py",
   "mimetype": "text/x-python",
   "name": "python",
   "nbconvert_exporter": "python",
   "pygments_lexer": "ipython3",
   "version": "3.10.5"
  }
 },
 "nbformat": 4,
 "nbformat_minor": 5
}
