{
 "cells": [
  {
   "cell_type": "markdown",
   "id": "fb94c25e-f7cd-4352-a9ec-c501003a935c",
   "metadata": {},
   "source": [
    "# Merging GPT-labeled taxon-specific colors with the iNaturalist occurrence data"
   ]
  },
  {
   "cell_type": "markdown",
   "id": "aca03519-aa36-4702-8ec9-0d2651a5a8da",
   "metadata": {},
   "source": [
    "## README:\n",
    "Here we are reading in the products from the previous two notebooks -- the iNaturalist occurrence data of plants that are in flower and the taxon-specific color labels from GPT. We are combining them here to produce one big dataset that includes iNaturalist occurrences with their associated color labels: `./data/fulldata_cleaned_matched_GPT_colors.csv`"
   ]
  },
  {
   "cell_type": "code",
   "execution_count": 86,
   "id": "b21eb2fd-ffae-4929-a2cd-34baf9b662c5",
   "metadata": {},
   "outputs": [],
   "source": [
    "import numpy as np\n",
    "import seaborn as sns\n",
    "import os\n",
    "import toyplot\n",
    "import matplotlib.pyplot as plt\n",
    "import pandas as pd\n",
    "from dateutil import parser\n",
    "from shapely.geometry import Point, Polygon\n",
    "import geopandas as gpd\n",
    "from geopandas import GeoDataFrame\n",
    "import imageio\n",
    "from IPython.display import Image\n",
    "import rasterio"
   ]
  },
  {
   "cell_type": "code",
   "execution_count": 87,
   "id": "f9e7504a-c590-4b0a-957e-a65227bcf6f3",
   "metadata": {},
   "outputs": [
    {
     "data": {
      "text/plain": [
       "'/Users/patrickmckenzie/googledrive/projects/flower_color_phenology'"
      ]
     },
     "execution_count": 87,
     "metadata": {},
     "output_type": "execute_result"
    }
   ],
   "source": [
    "%pwd"
   ]
  },
  {
   "cell_type": "code",
   "execution_count": 89,
   "id": "9e3ed075-f0bd-4b5b-954e-a7298b8db3c4",
   "metadata": {},
   "outputs": [
    {
     "name": "stdout",
     "output_type": "stream",
     "text": [
      "/Users/patrickmckenzie/googledrive/projects/flower_color_phenology\n"
     ]
    }
   ],
   "source": [
    "%cd flower_color_phenology/"
   ]
  },
  {
   "cell_type": "code",
   "execution_count": 11,
   "id": "2dc7d013-1b8a-46f7-83e8-7d654608fbde",
   "metadata": {},
   "outputs": [
    {
     "name": "stderr",
     "output_type": "stream",
     "text": [
      "/var/folders/qh/c7rwx84921n2kznn09zb2pnh0000gn/T/ipykernel_55526/3557944010.py:2: DtypeWarning: Columns (0,5,14,18,19,20,29,31) have mixed types. Specify dtype option on import or set low_memory=False.\n",
      "  inatdata = pd.read_csv('./data/combined_raw_inaturalist_export.csv')\n"
     ]
    },
    {
     "data": {
      "text/plain": [
       "1758405"
      ]
     },
     "execution_count": 11,
     "metadata": {},
     "output_type": "execute_result"
    }
   ],
   "source": [
    "coldf = pd.read_csv('./data/FULL_gpt_labeled_taxon.csv')\n",
    "inatdata = pd.read_csv('./data/combined_raw_inaturalist_export.csv')\n",
    "# let's make a column for the first two words of every scientific name in the data\n",
    "inatdata['binomial'] = [' '.join(str(i).split( )[:2]) for i in inatdata.scientific_name]\n",
    "color_list = []\n",
    "for obs_sp in list(inatdata.binomial):\n",
    "    subrows = coldf[coldf.binomial.eq(obs_sp)]\n",
    "    if len(subrows):\n",
    "        color = np.random.choice(subrows.gpt_color).lower()\n",
    "    else:\n",
    "        color = np.nan\n",
    "    color_list.append(color)\n",
    "    \n",
    "inatdata['color'] = color_list\n",
    "\n",
    "inatdata_plus_color = inatdata[~inatdata.color.isna()]\n",
    "\n",
    "len(inatdata_plus_color.index)"
   ]
  },
  {
   "cell_type": "code",
   "execution_count": 10,
   "id": "5409c64d-ed71-4d73-bcec-06fb890b25f7",
   "metadata": {},
   "outputs": [
    {
     "data": {
      "text/plain": [
       "1763883"
      ]
     },
     "execution_count": 10,
     "metadata": {},
     "output_type": "execute_result"
    }
   ],
   "source": [
    "len(inatdata)"
   ]
  },
  {
   "cell_type": "code",
   "execution_count": 18,
   "id": "6909b790-b098-492b-a103-4086cf4282f7",
   "metadata": {},
   "outputs": [],
   "source": [
    "inatdata_plus_color = inatdata_plus_color[~inatdata_plus_color.color.eq('nan')]"
   ]
  },
  {
   "cell_type": "code",
   "execution_count": 19,
   "id": "56c40a43-cbb8-46df-b416-134c683780af",
   "metadata": {},
   "outputs": [
    {
     "data": {
      "text/plain": [
       "1675600"
      ]
     },
     "execution_count": 19,
     "metadata": {},
     "output_type": "execute_result"
    }
   ],
   "source": [
    "len(inatdata_plus_color.index)"
   ]
  },
  {
   "cell_type": "code",
   "execution_count": 20,
   "id": "ef43acfb-c3c3-42ab-835f-3deebe38a1d0",
   "metadata": {},
   "outputs": [],
   "source": [
    "inatdata_plus_color = inatdata_plus_color[~inatdata_plus_color.color.eq('unknown')]"
   ]
  },
  {
   "cell_type": "code",
   "execution_count": 21,
   "id": "62fc5c5f-d1dd-4489-b3bb-dfd397abc884",
   "metadata": {},
   "outputs": [
    {
     "data": {
      "text/plain": [
       "1675263"
      ]
     },
     "execution_count": 21,
     "metadata": {},
     "output_type": "execute_result"
    }
   ],
   "source": [
    "len(inatdata_plus_color.index)"
   ]
  },
  {
   "cell_type": "markdown",
   "id": "6bdbf49f-4060-4bae-8b15-ef1c44cf2f54",
   "metadata": {},
   "source": [
    "### Remove the hybrid or single-name taxa"
   ]
  },
  {
   "cell_type": "code",
   "execution_count": 22,
   "id": "52df9689-93fc-4c03-b128-83fa8339ee58",
   "metadata": {},
   "outputs": [
    {
     "name": "stdout",
     "output_type": "stream",
     "text": [
      "1\n"
     ]
    }
   ],
   "source": [
    "# screen out all hybrid names (with the 'x' character)\n",
    "hybrid_mask = ~np.array(['x' in str(i).split() for i in inatdata_plus_color.scientific_name])\n",
    "print(np.sum(~hybrid_mask))\n",
    "inatdata_plus_color = inatdata_plus_color[hybrid_mask]"
   ]
  },
  {
   "cell_type": "code",
   "execution_count": 23,
   "id": "4ba64e58-72d1-4835-b392-2ce57a4d8667",
   "metadata": {},
   "outputs": [
    {
     "data": {
      "text/plain": [
       "1675262"
      ]
     },
     "execution_count": 23,
     "metadata": {},
     "output_type": "execute_result"
    }
   ],
   "source": [
    "len(inatdata_plus_color.index)"
   ]
  },
  {
   "cell_type": "code",
   "execution_count": 24,
   "id": "dbd26cec-775b-4983-aa7a-48826a870f33",
   "metadata": {},
   "outputs": [
    {
     "name": "stdout",
     "output_type": "stream",
     "text": [
      "354\n"
     ]
    }
   ],
   "source": [
    "# there is a special character for x that we also have to screen out!\n",
    "hybrid_mask = ~np.array(['×' in str(i).split() for i in inatdata_plus_color.scientific_name])\n",
    "print(np.sum(~hybrid_mask))\n",
    "inatdata_plus_color = inatdata_plus_color[hybrid_mask]"
   ]
  },
  {
   "cell_type": "code",
   "execution_count": 25,
   "id": "9ae7eb46-6e3e-46a2-94de-d96f9d462aaa",
   "metadata": {},
   "outputs": [
    {
     "name": "stdout",
     "output_type": "stream",
     "text": [
      "0\n"
     ]
    }
   ],
   "source": [
    "# screen out all scientific names that are one word\n",
    "single_names_mask = ~np.array([len(str(i).split())==1 for i in inatdata_plus_color.scientific_name])\n",
    "print(np.sum(~single_names_mask))\n",
    "inatdata_plus_color = inatdata_plus_color[single_names_mask]"
   ]
  },
  {
   "cell_type": "code",
   "execution_count": 27,
   "id": "6a1dc2f0-76ea-4eaa-90c7-80a51413940b",
   "metadata": {},
   "outputs": [
    {
     "data": {
      "text/plain": [
       "1674908"
      ]
     },
     "execution_count": 27,
     "metadata": {},
     "output_type": "execute_result"
    }
   ],
   "source": [
    "len(inatdata_plus_color.index)"
   ]
  },
  {
   "cell_type": "markdown",
   "id": "933355d1-c105-4dfc-863a-2c54d9d6d556",
   "metadata": {},
   "source": [
    "### Add the day of year column"
   ]
  },
  {
   "cell_type": "code",
   "execution_count": 29,
   "id": "3ec76d27-879f-4110-9453-5f90761d08b4",
   "metadata": {},
   "outputs": [
    {
     "data": {
      "text/html": [
       "<div>\n",
       "<style scoped>\n",
       "    .dataframe tbody tr th:only-of-type {\n",
       "        vertical-align: middle;\n",
       "    }\n",
       "\n",
       "    .dataframe tbody tr th {\n",
       "        vertical-align: top;\n",
       "    }\n",
       "\n",
       "    .dataframe thead th {\n",
       "        text-align: right;\n",
       "    }\n",
       "</style>\n",
       "<table border=\"1\" class=\"dataframe\">\n",
       "  <thead>\n",
       "    <tr style=\"text-align: right;\">\n",
       "      <th></th>\n",
       "      <th>id</th>\n",
       "      <th>observed_on_string</th>\n",
       "      <th>observed_on</th>\n",
       "      <th>time_observed_at</th>\n",
       "      <th>time_zone</th>\n",
       "      <th>user_id</th>\n",
       "      <th>user_login</th>\n",
       "      <th>user_name</th>\n",
       "      <th>created_at</th>\n",
       "      <th>updated_at</th>\n",
       "      <th>...</th>\n",
       "      <th>positioning_method</th>\n",
       "      <th>positioning_device</th>\n",
       "      <th>species_guess</th>\n",
       "      <th>scientific_name</th>\n",
       "      <th>common_name</th>\n",
       "      <th>iconic_taxon_name</th>\n",
       "      <th>taxon_id</th>\n",
       "      <th>binomial</th>\n",
       "      <th>color</th>\n",
       "      <th>day_of_year</th>\n",
       "    </tr>\n",
       "  </thead>\n",
       "  <tbody>\n",
       "    <tr>\n",
       "      <th>0</th>\n",
       "      <td>47</td>\n",
       "      <td>March 21, 2008</td>\n",
       "      <td>2008-03-21</td>\n",
       "      <td>NaN</td>\n",
       "      <td>Central Time (US &amp; Canada)</td>\n",
       "      <td>7</td>\n",
       "      <td>lisa_and_robb</td>\n",
       "      <td>NaN</td>\n",
       "      <td>2008-03-25 11:21:54 UTC</td>\n",
       "      <td>2023-03-12 05:50:05 UTC</td>\n",
       "      <td>...</td>\n",
       "      <td>NaN</td>\n",
       "      <td>NaN</td>\n",
       "      <td>Texas Bluebonnet</td>\n",
       "      <td>Lupinus texensis</td>\n",
       "      <td>Texas bluebonnet</td>\n",
       "      <td>Plantae</td>\n",
       "      <td>49564.0</td>\n",
       "      <td>Lupinus texensis</td>\n",
       "      <td>blue</td>\n",
       "      <td>81</td>\n",
       "    </tr>\n",
       "    <tr>\n",
       "      <th>1</th>\n",
       "      <td>8009</td>\n",
       "      <td>2010-07-20</td>\n",
       "      <td>2010-07-20</td>\n",
       "      <td>NaN</td>\n",
       "      <td>Mountain Time (US &amp; Canada)</td>\n",
       "      <td>453</td>\n",
       "      <td>leighannemcc</td>\n",
       "      <td>NaN</td>\n",
       "      <td>2010-08-06 19:30:15 UTC</td>\n",
       "      <td>2020-06-04 22:16:05 UTC</td>\n",
       "      <td>...</td>\n",
       "      <td>NaN</td>\n",
       "      <td>NaN</td>\n",
       "      <td>Solanum rostratum</td>\n",
       "      <td>Solanum rostratum</td>\n",
       "      <td>buffalo-bur</td>\n",
       "      <td>Plantae</td>\n",
       "      <td>62642.0</td>\n",
       "      <td>Solanum rostratum</td>\n",
       "      <td>yellow</td>\n",
       "      <td>201</td>\n",
       "    </tr>\n",
       "    <tr>\n",
       "      <th>2</th>\n",
       "      <td>32167</td>\n",
       "      <td>September 22, 2011 10:58</td>\n",
       "      <td>2011-09-22</td>\n",
       "      <td>2011-09-22 14:58:00 UTC</td>\n",
       "      <td>Eastern Time (US &amp; Canada)</td>\n",
       "      <td>2370</td>\n",
       "      <td>ctracey</td>\n",
       "      <td>Christopher Tracey</td>\n",
       "      <td>2011-09-23 03:14:29 UTC</td>\n",
       "      <td>2022-05-17 18:47:54 UTC</td>\n",
       "      <td>...</td>\n",
       "      <td>NaN</td>\n",
       "      <td>NaN</td>\n",
       "      <td>Fendler's sandmat</td>\n",
       "      <td>Euphorbia fendleri</td>\n",
       "      <td>Fendler's Sandmat</td>\n",
       "      <td>Plantae</td>\n",
       "      <td>148407.0</td>\n",
       "      <td>Euphorbia fendleri</td>\n",
       "      <td>green</td>\n",
       "      <td>265</td>\n",
       "    </tr>\n",
       "    <tr>\n",
       "      <th>3</th>\n",
       "      <td>35715</td>\n",
       "      <td>October 14, 2011 2:17:52 PM CDT</td>\n",
       "      <td>2011-10-14</td>\n",
       "      <td>2011-10-14 19:17:52 UTC</td>\n",
       "      <td>Central Time (US &amp; Canada)</td>\n",
       "      <td>2281</td>\n",
       "      <td>cullen</td>\n",
       "      <td>Cullen Hanks</td>\n",
       "      <td>2011-10-15 04:38:10 UTC</td>\n",
       "      <td>2022-05-12 15:24:40 UTC</td>\n",
       "      <td>...</td>\n",
       "      <td>NaN</td>\n",
       "      <td>NaN</td>\n",
       "      <td>Spigelia texana</td>\n",
       "      <td>Spigelia texana</td>\n",
       "      <td>Texas pinkroot</td>\n",
       "      <td>Plantae</td>\n",
       "      <td>520535.0</td>\n",
       "      <td>Spigelia texana</td>\n",
       "      <td>white</td>\n",
       "      <td>287</td>\n",
       "    </tr>\n",
       "    <tr>\n",
       "      <th>4</th>\n",
       "      <td>38015</td>\n",
       "      <td>March 13, 2011 15:36</td>\n",
       "      <td>2011-03-13</td>\n",
       "      <td>2011-03-13 20:36:00 UTC</td>\n",
       "      <td>Central Time (US &amp; Canada)</td>\n",
       "      <td>2670</td>\n",
       "      <td>atxnaturalist</td>\n",
       "      <td>Kari Gaukler</td>\n",
       "      <td>2011-11-03 03:55:14 UTC</td>\n",
       "      <td>2020-11-22 14:54:48 UTC</td>\n",
       "      <td>...</td>\n",
       "      <td>NaN</td>\n",
       "      <td>NaN</td>\n",
       "      <td>Texas baby blue eyes</td>\n",
       "      <td>Nemophila phacelioides</td>\n",
       "      <td>Texas baby blue eyes</td>\n",
       "      <td>Plantae</td>\n",
       "      <td>120550.0</td>\n",
       "      <td>Nemophila phacelioides</td>\n",
       "      <td>blue</td>\n",
       "      <td>72</td>\n",
       "    </tr>\n",
       "    <tr>\n",
       "      <th>...</th>\n",
       "      <td>...</td>\n",
       "      <td>...</td>\n",
       "      <td>...</td>\n",
       "      <td>...</td>\n",
       "      <td>...</td>\n",
       "      <td>...</td>\n",
       "      <td>...</td>\n",
       "      <td>...</td>\n",
       "      <td>...</td>\n",
       "      <td>...</td>\n",
       "      <td>...</td>\n",
       "      <td>...</td>\n",
       "      <td>...</td>\n",
       "      <td>...</td>\n",
       "      <td>...</td>\n",
       "      <td>...</td>\n",
       "      <td>...</td>\n",
       "      <td>...</td>\n",
       "      <td>...</td>\n",
       "      <td>...</td>\n",
       "      <td>...</td>\n",
       "    </tr>\n",
       "    <tr>\n",
       "      <th>1763878</th>\n",
       "      <td>187151184</td>\n",
       "      <td>2023-10-11 10:18:05-07:00</td>\n",
       "      <td>2023-10-11</td>\n",
       "      <td>2023-10-11 17:18:05 UTC</td>\n",
       "      <td>Pacific Time (US &amp; Canada)</td>\n",
       "      <td>573539</td>\n",
       "      <td>bmacm</td>\n",
       "      <td>Barbara Millett</td>\n",
       "      <td>2023-10-11 18:55:36 UTC</td>\n",
       "      <td>2023-10-11 22:10:28 UTC</td>\n",
       "      <td>...</td>\n",
       "      <td>NaN</td>\n",
       "      <td>NaN</td>\n",
       "      <td>greenspot nightshade</td>\n",
       "      <td>Solanum douglasii</td>\n",
       "      <td>greenspot nightshade</td>\n",
       "      <td>Plantae</td>\n",
       "      <td>64105.0</td>\n",
       "      <td>Solanum douglasii</td>\n",
       "      <td>purple</td>\n",
       "      <td>284</td>\n",
       "    </tr>\n",
       "    <tr>\n",
       "      <th>1763879</th>\n",
       "      <td>187152623</td>\n",
       "      <td>2023-10-11 10:08:36-07:00</td>\n",
       "      <td>2023-10-11</td>\n",
       "      <td>2023-10-11 17:08:36 UTC</td>\n",
       "      <td>Pacific Time (US &amp; Canada)</td>\n",
       "      <td>573539</td>\n",
       "      <td>bmacm</td>\n",
       "      <td>Barbara Millett</td>\n",
       "      <td>2023-10-11 19:08:46 UTC</td>\n",
       "      <td>2023-10-11 22:46:44 UTC</td>\n",
       "      <td>...</td>\n",
       "      <td>NaN</td>\n",
       "      <td>NaN</td>\n",
       "      <td>scarlet monkeyflower</td>\n",
       "      <td>Erythranthe cardinalis</td>\n",
       "      <td>scarlet monkeyflower</td>\n",
       "      <td>Plantae</td>\n",
       "      <td>319974.0</td>\n",
       "      <td>Erythranthe cardinalis</td>\n",
       "      <td>orange</td>\n",
       "      <td>284</td>\n",
       "    </tr>\n",
       "    <tr>\n",
       "      <th>1763880</th>\n",
       "      <td>187155066</td>\n",
       "      <td>2023-10-11 12:30:00-07:00</td>\n",
       "      <td>2023-10-11</td>\n",
       "      <td>2023-10-11 19:30:00 UTC</td>\n",
       "      <td>Pacific Time (US &amp; Canada)</td>\n",
       "      <td>7396362</td>\n",
       "      <td>noahhaas</td>\n",
       "      <td>NaN</td>\n",
       "      <td>2023-10-11 19:30:21 UTC</td>\n",
       "      <td>2023-10-12 03:10:47 UTC</td>\n",
       "      <td>...</td>\n",
       "      <td>NaN</td>\n",
       "      <td>NaN</td>\n",
       "      <td>mule fat</td>\n",
       "      <td>Baccharis salicifolia</td>\n",
       "      <td>mule fat</td>\n",
       "      <td>Plantae</td>\n",
       "      <td>57913.0</td>\n",
       "      <td>Baccharis salicifolia</td>\n",
       "      <td>pink</td>\n",
       "      <td>284</td>\n",
       "    </tr>\n",
       "    <tr>\n",
       "      <th>1763881</th>\n",
       "      <td>187157269</td>\n",
       "      <td>2023-10-11 10:15:01-07:00</td>\n",
       "      <td>2023-10-11</td>\n",
       "      <td>2023-10-11 17:15:01 UTC</td>\n",
       "      <td>Pacific Time (US &amp; Canada)</td>\n",
       "      <td>573539</td>\n",
       "      <td>bmacm</td>\n",
       "      <td>Barbara Millett</td>\n",
       "      <td>2023-10-11 19:48:42 UTC</td>\n",
       "      <td>2023-10-11 20:27:06 UTC</td>\n",
       "      <td>...</td>\n",
       "      <td>NaN</td>\n",
       "      <td>NaN</td>\n",
       "      <td>White Sweetclover</td>\n",
       "      <td>Melilotus albus</td>\n",
       "      <td>White Sweetclover</td>\n",
       "      <td>Plantae</td>\n",
       "      <td>58907.0</td>\n",
       "      <td>Melilotus albus</td>\n",
       "      <td>white</td>\n",
       "      <td>284</td>\n",
       "    </tr>\n",
       "    <tr>\n",
       "      <th>1763882</th>\n",
       "      <td>187166966</td>\n",
       "      <td>2023-10-11 10:06:07</td>\n",
       "      <td>2023-10-11</td>\n",
       "      <td>2023-10-11 17:06:07 UTC</td>\n",
       "      <td>Pacific Time (US &amp; Canada)</td>\n",
       "      <td>52828</td>\n",
       "      <td>andybridges</td>\n",
       "      <td>Andy Bridges</td>\n",
       "      <td>2023-10-11 21:14:20 UTC</td>\n",
       "      <td>2023-10-11 21:44:39 UTC</td>\n",
       "      <td>...</td>\n",
       "      <td>gps</td>\n",
       "      <td>gps</td>\n",
       "      <td>scarlet monkeyflower</td>\n",
       "      <td>Erythranthe cardinalis</td>\n",
       "      <td>scarlet monkeyflower</td>\n",
       "      <td>Plantae</td>\n",
       "      <td>319974.0</td>\n",
       "      <td>Erythranthe cardinalis</td>\n",
       "      <td>orange</td>\n",
       "      <td>284</td>\n",
       "    </tr>\n",
       "  </tbody>\n",
       "</table>\n",
       "<p>1674908 rows × 42 columns</p>\n",
       "</div>"
      ],
      "text/plain": [
       "                id               observed_on_string observed_on  \\\n",
       "0               47                   March 21, 2008  2008-03-21   \n",
       "1             8009                       2010-07-20  2010-07-20   \n",
       "2            32167         September 22, 2011 10:58  2011-09-22   \n",
       "3            35715  October 14, 2011 2:17:52 PM CDT  2011-10-14   \n",
       "4            38015             March 13, 2011 15:36  2011-03-13   \n",
       "...            ...                              ...         ...   \n",
       "1763878  187151184        2023-10-11 10:18:05-07:00  2023-10-11   \n",
       "1763879  187152623        2023-10-11 10:08:36-07:00  2023-10-11   \n",
       "1763880  187155066        2023-10-11 12:30:00-07:00  2023-10-11   \n",
       "1763881  187157269        2023-10-11 10:15:01-07:00  2023-10-11   \n",
       "1763882  187166966              2023-10-11 10:06:07  2023-10-11   \n",
       "\n",
       "                time_observed_at                    time_zone  user_id  \\\n",
       "0                            NaN   Central Time (US & Canada)        7   \n",
       "1                            NaN  Mountain Time (US & Canada)      453   \n",
       "2        2011-09-22 14:58:00 UTC   Eastern Time (US & Canada)     2370   \n",
       "3        2011-10-14 19:17:52 UTC   Central Time (US & Canada)     2281   \n",
       "4        2011-03-13 20:36:00 UTC   Central Time (US & Canada)     2670   \n",
       "...                          ...                          ...      ...   \n",
       "1763878  2023-10-11 17:18:05 UTC   Pacific Time (US & Canada)   573539   \n",
       "1763879  2023-10-11 17:08:36 UTC   Pacific Time (US & Canada)   573539   \n",
       "1763880  2023-10-11 19:30:00 UTC   Pacific Time (US & Canada)  7396362   \n",
       "1763881  2023-10-11 17:15:01 UTC   Pacific Time (US & Canada)   573539   \n",
       "1763882  2023-10-11 17:06:07 UTC   Pacific Time (US & Canada)    52828   \n",
       "\n",
       "            user_login           user_name               created_at  \\\n",
       "0        lisa_and_robb                 NaN  2008-03-25 11:21:54 UTC   \n",
       "1         leighannemcc                 NaN  2010-08-06 19:30:15 UTC   \n",
       "2              ctracey  Christopher Tracey  2011-09-23 03:14:29 UTC   \n",
       "3               cullen        Cullen Hanks  2011-10-15 04:38:10 UTC   \n",
       "4        atxnaturalist        Kari Gaukler  2011-11-03 03:55:14 UTC   \n",
       "...                ...                 ...                      ...   \n",
       "1763878          bmacm     Barbara Millett  2023-10-11 18:55:36 UTC   \n",
       "1763879          bmacm     Barbara Millett  2023-10-11 19:08:46 UTC   \n",
       "1763880       noahhaas                 NaN  2023-10-11 19:30:21 UTC   \n",
       "1763881          bmacm     Barbara Millett  2023-10-11 19:48:42 UTC   \n",
       "1763882    andybridges        Andy Bridges  2023-10-11 21:14:20 UTC   \n",
       "\n",
       "                      updated_at  ... positioning_method positioning_device  \\\n",
       "0        2023-03-12 05:50:05 UTC  ...                NaN                NaN   \n",
       "1        2020-06-04 22:16:05 UTC  ...                NaN                NaN   \n",
       "2        2022-05-17 18:47:54 UTC  ...                NaN                NaN   \n",
       "3        2022-05-12 15:24:40 UTC  ...                NaN                NaN   \n",
       "4        2020-11-22 14:54:48 UTC  ...                NaN                NaN   \n",
       "...                          ...  ...                ...                ...   \n",
       "1763878  2023-10-11 22:10:28 UTC  ...                NaN                NaN   \n",
       "1763879  2023-10-11 22:46:44 UTC  ...                NaN                NaN   \n",
       "1763880  2023-10-12 03:10:47 UTC  ...                NaN                NaN   \n",
       "1763881  2023-10-11 20:27:06 UTC  ...                NaN                NaN   \n",
       "1763882  2023-10-11 21:44:39 UTC  ...                gps                gps   \n",
       "\n",
       "                species_guess         scientific_name           common_name  \\\n",
       "0            Texas Bluebonnet        Lupinus texensis      Texas bluebonnet   \n",
       "1           Solanum rostratum       Solanum rostratum           buffalo-bur   \n",
       "2           Fendler's sandmat      Euphorbia fendleri     Fendler's Sandmat   \n",
       "3             Spigelia texana         Spigelia texana        Texas pinkroot   \n",
       "4        Texas baby blue eyes  Nemophila phacelioides  Texas baby blue eyes   \n",
       "...                       ...                     ...                   ...   \n",
       "1763878  greenspot nightshade       Solanum douglasii  greenspot nightshade   \n",
       "1763879  scarlet monkeyflower  Erythranthe cardinalis  scarlet monkeyflower   \n",
       "1763880              mule fat   Baccharis salicifolia              mule fat   \n",
       "1763881     White Sweetclover         Melilotus albus     White Sweetclover   \n",
       "1763882  scarlet monkeyflower  Erythranthe cardinalis  scarlet monkeyflower   \n",
       "\n",
       "        iconic_taxon_name  taxon_id                binomial   color  \\\n",
       "0                 Plantae   49564.0        Lupinus texensis    blue   \n",
       "1                 Plantae   62642.0       Solanum rostratum  yellow   \n",
       "2                 Plantae  148407.0      Euphorbia fendleri   green   \n",
       "3                 Plantae  520535.0         Spigelia texana   white   \n",
       "4                 Plantae  120550.0  Nemophila phacelioides    blue   \n",
       "...                   ...       ...                     ...     ...   \n",
       "1763878           Plantae   64105.0       Solanum douglasii  purple   \n",
       "1763879           Plantae  319974.0  Erythranthe cardinalis  orange   \n",
       "1763880           Plantae   57913.0   Baccharis salicifolia    pink   \n",
       "1763881           Plantae   58907.0         Melilotus albus   white   \n",
       "1763882           Plantae  319974.0  Erythranthe cardinalis  orange   \n",
       "\n",
       "        day_of_year  \n",
       "0                81  \n",
       "1               201  \n",
       "2               265  \n",
       "3               287  \n",
       "4                72  \n",
       "...             ...  \n",
       "1763878         284  \n",
       "1763879         284  \n",
       "1763880         284  \n",
       "1763881         284  \n",
       "1763882         284  \n",
       "\n",
       "[1674908 rows x 42 columns]"
      ]
     },
     "execution_count": 29,
     "metadata": {},
     "output_type": "execute_result"
    }
   ],
   "source": [
    "days_list = []\n",
    "for date in inatdata_plus_color.observed_on:\n",
    "    dt = parser.parse(date)\n",
    "    day_of_year = dt.timetuple().tm_yday\n",
    "    days_list.append(day_of_year)\n",
    "    \n",
    "inatdata_plus_color['day_of_year'] = days_list\n",
    "inatdata_plus_color"
   ]
  },
  {
   "cell_type": "markdown",
   "id": "08bffb78-4ce8-42e3-8eba-d4a5f243bb64",
   "metadata": {},
   "source": [
    "# Write out the cleaned, GPT-color-labeled dataset!"
   ]
  },
  {
   "cell_type": "code",
   "execution_count": 30,
   "id": "25f7a9ac-01d2-462b-9381-18f4ca0e250d",
   "metadata": {},
   "outputs": [],
   "source": [
    "inatdata_plus_color.to_csv('./data/fulldata_cleaned_matched_GPT_colors.csv',index=False)"
   ]
  }
 ],
 "metadata": {
  "kernelspec": {
   "display_name": "Python 3 (ipykernel)",
   "language": "python",
   "name": "python3"
  },
  "language_info": {
   "codemirror_mode": {
    "name": "ipython",
    "version": 3
   },
   "file_extension": ".py",
   "mimetype": "text/x-python",
   "name": "python",
   "nbconvert_exporter": "python",
   "pygments_lexer": "ipython3",
   "version": "3.10.5"
  }
 },
 "nbformat": 4,
 "nbformat_minor": 5
}
